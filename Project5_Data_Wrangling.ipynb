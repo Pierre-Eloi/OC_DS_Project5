{
 "cells": [
  {
   "cell_type": "markdown",
   "metadata": {},
   "source": [
    "# Projet 5 : Segmenter des clients d'un site e-commerce\n",
    "\n",
    "*Pierre-Eloi Ragetly*\n",
    "\n",
    "Ce projet fait parti du parcours *Data Scientist* d'OpenClassroooms.\n",
    "\n",
    "L'objectif pricipal est de réaliser **une segmentation des clients** d'un site de e-commerce, **une proposition de contrat de maintenance** devra être inclue.\n",
    "\n",
    "Les données mises à notre disposition proviennent du site *kaggle* :\n",
    "https://www.kaggle.com/olistbr/brazilian-ecommerce"
   ]
  },
  {
   "cell_type": "markdown",
   "metadata": {},
   "source": [
    "# Partie I : Data Wrangling\n",
    "\n",
    "L'objectif de ce notebook est de décrire les opérations de nettoyage nécessaires à l'obtention d'un jeu de données exploitable."
   ]
  },
  {
   "cell_type": "code",
   "execution_count": 1,
   "metadata": {
    "ExecuteTime": {
     "end_time": "2020-07-31T07:19:10.641680Z",
     "start_time": "2020-07-31T07:19:09.700548Z"
    }
   },
   "outputs": [],
   "source": [
    "# Import usual libraries\n",
    "%matplotlib inline\n",
    "import matplotlib.pyplot as plt\n",
    "import numpy as np\n",
    "import scipy.stats as stats\n",
    "import pandas as pd\n",
    "import seaborn as sns"
   ]
  },
  {
   "cell_type": "code",
   "execution_count": 2,
   "metadata": {
    "ExecuteTime": {
     "end_time": "2020-07-31T07:19:10.649407Z",
     "start_time": "2020-07-31T07:19:10.643354Z"
    }
   },
   "outputs": [],
   "source": [
    "# Change some default parameters of matplotlib using seaborn\n",
    "plt.rcParams.update(plt.rcParamsDefault)\n",
    "plt.rcParams.update({'axes.titleweight': 'bold'})\n",
    "sns.set(style='ticks')\n",
    "current_palette = sns.color_palette('RdBu')\n",
    "sns.set_palette(current_palette)"
   ]
  },
  {
   "cell_type": "markdown",
   "metadata": {
    "toc": true
   },
   "source": [
    "<h1>Table of Contents<span class=\"tocSkip\"></span></h1>\n",
    "<div class=\"toc\"><ul class=\"toc-item\"><li><span><a href=\"#Récupération-des-données\" data-toc-modified-id=\"Récupération-des-données-1\"><span class=\"toc-item-num\">1&nbsp;&nbsp;</span>Récupération des données</a></span></li><li><span><a href=\"#Fusion-des-données\" data-toc-modified-id=\"Fusion-des-données-2\"><span class=\"toc-item-num\">2&nbsp;&nbsp;</span>Fusion des données</a></span></li><li><span><a href=\"#Ingénierie-des-variables\" data-toc-modified-id=\"Ingénierie-des-variables-3\"><span class=\"toc-item-num\">3&nbsp;&nbsp;</span>Ingénierie des variables</a></span><ul class=\"toc-item\"><li><span><a href=\"#Variables-RFM\" data-toc-modified-id=\"Variables-RFM-3.1\"><span class=\"toc-item-num\">3.1&nbsp;&nbsp;</span>Variables RFM</a></span></li><li><span><a href=\"#Variables-liées-aux-produits\" data-toc-modified-id=\"Variables-liées-aux-produits-3.2\"><span class=\"toc-item-num\">3.2&nbsp;&nbsp;</span>Variables liées aux produits</a></span></li><li><span><a href=\"#Catégories-des-produits\" data-toc-modified-id=\"Catégories-des-produits-3.3\"><span class=\"toc-item-num\">3.3&nbsp;&nbsp;</span>Catégories des produits</a></span></li><li><span><a href=\"#Variables-liées-aux-commentaires\" data-toc-modified-id=\"Variables-liées-aux-commentaires-3.4\"><span class=\"toc-item-num\">3.4&nbsp;&nbsp;</span>Variables liées aux commentaires</a></span></li><li><span><a href=\"#Moyens-de-paiement\" data-toc-modified-id=\"Moyens-de-paiement-3.5\"><span class=\"toc-item-num\">3.5&nbsp;&nbsp;</span>Moyens de paiement</a></span></li><li><span><a href=\"#Les-plus-gros-vendeurs\" data-toc-modified-id=\"Les-plus-gros-vendeurs-3.6\"><span class=\"toc-item-num\">3.6&nbsp;&nbsp;</span>Les plus gros vendeurs</a></span></li><li><span><a href=\"#États\" data-toc-modified-id=\"États-3.7\"><span class=\"toc-item-num\">3.7&nbsp;&nbsp;</span>États</a></span></li><li><span><a href=\"#Fusion-des-pivot-tables\" data-toc-modified-id=\"Fusion-des-pivot-tables-3.8\"><span class=\"toc-item-num\">3.8&nbsp;&nbsp;</span>Fusion des pivot tables</a></span></li></ul></li><li><span><a href=\"#Export-des-données\" data-toc-modified-id=\"Export-des-données-4\"><span class=\"toc-item-num\">4&nbsp;&nbsp;</span>Export des données</a></span></li></ul></div>"
   ]
  },
  {
   "cell_type": "markdown",
   "metadata": {},
   "source": [
    "## Récupération des données\n",
    "\n",
    "Une fois les données téléchargées, nous pouvons les charger dans un DataFrame en utilisant la librairie **pandas**."
   ]
  },
  {
   "cell_type": "code",
   "execution_count": 3,
   "metadata": {
    "ExecuteTime": {
     "end_time": "2020-07-31T07:19:11.942714Z",
     "start_time": "2020-07-31T07:19:10.651240Z"
    }
   },
   "outputs": [],
   "source": [
    "df_customers =  pd.read_csv(\"data/olist_customers_dataset.csv\")\n",
    "df_geolocation = pd.read_csv(\"data/olist_geolocation_dataset.csv\")\n",
    "df_order_items = pd.read_csv(\"data/olist_order_items_dataset.csv\")\n",
    "df_order_payments = pd.read_csv(\"data/olist_order_payments_dataset.csv\")\n",
    "df_order_reviews = pd.read_csv(\"data/olist_order_reviews_dataset.csv\")\n",
    "df_orders = pd.read_csv(\"data/olist_orders_dataset.csv\")\n",
    "df_products = pd.read_csv(\"data/olist_products_dataset.csv\")\n",
    "df_sellers = pd.read_csv(\"data/olist_sellers_dataset.csv\")\n",
    "df_translation = pd.read_csv(\"data/product_category_name_translation.csv\")"
   ]
  },
  {
   "cell_type": "markdown",
   "metadata": {},
   "source": [
    "Regardons ce qui est contenu dans chaque DataFrame."
   ]
  },
  {
   "cell_type": "code",
   "execution_count": 4,
   "metadata": {
    "ExecuteTime": {
     "end_time": "2020-07-31T07:19:11.962271Z",
     "start_time": "2020-07-31T07:19:11.944623Z"
    }
   },
   "outputs": [
    {
     "name": "stdout",
     "output_type": "stream",
     "text": [
      "<class 'pandas.core.frame.DataFrame'>\n",
      "RangeIndex: 99441 entries, 0 to 99440\n",
      "Data columns (total 5 columns):\n",
      " #   Column                    Non-Null Count  Dtype \n",
      "---  ------                    --------------  ----- \n",
      " 0   customer_id               99441 non-null  object\n",
      " 1   customer_unique_id        99441 non-null  object\n",
      " 2   customer_zip_code_prefix  99441 non-null  int64 \n",
      " 3   customer_city             99441 non-null  object\n",
      " 4   customer_state            99441 non-null  object\n",
      "dtypes: int64(1), object(4)\n",
      "memory usage: 3.8+ MB\n"
     ]
    }
   ],
   "source": [
    "df_customers.info()"
   ]
  },
  {
   "cell_type": "code",
   "execution_count": 5,
   "metadata": {
    "ExecuteTime": {
     "end_time": "2020-07-31T07:19:12.030136Z",
     "start_time": "2020-07-31T07:19:11.963702Z"
    }
   },
   "outputs": [
    {
     "name": "stdout",
     "output_type": "stream",
     "text": [
      "<class 'pandas.core.frame.DataFrame'>\n",
      "RangeIndex: 1000163 entries, 0 to 1000162\n",
      "Data columns (total 5 columns):\n",
      " #   Column                       Non-Null Count    Dtype  \n",
      "---  ------                       --------------    -----  \n",
      " 0   geolocation_zip_code_prefix  1000163 non-null  int64  \n",
      " 1   geolocation_lat              1000163 non-null  float64\n",
      " 2   geolocation_lng              1000163 non-null  float64\n",
      " 3   geolocation_city             1000163 non-null  object \n",
      " 4   geolocation_state            1000163 non-null  object \n",
      "dtypes: float64(2), int64(1), object(2)\n",
      "memory usage: 38.2+ MB\n"
     ]
    }
   ],
   "source": [
    "df_geolocation.info()"
   ]
  },
  {
   "cell_type": "code",
   "execution_count": 6,
   "metadata": {
    "ExecuteTime": {
     "end_time": "2020-07-31T07:19:12.051346Z",
     "start_time": "2020-07-31T07:19:12.031893Z"
    }
   },
   "outputs": [
    {
     "name": "stdout",
     "output_type": "stream",
     "text": [
      "<class 'pandas.core.frame.DataFrame'>\n",
      "RangeIndex: 112650 entries, 0 to 112649\n",
      "Data columns (total 7 columns):\n",
      " #   Column               Non-Null Count   Dtype  \n",
      "---  ------               --------------   -----  \n",
      " 0   order_id             112650 non-null  object \n",
      " 1   order_item_id        112650 non-null  int64  \n",
      " 2   product_id           112650 non-null  object \n",
      " 3   seller_id            112650 non-null  object \n",
      " 4   shipping_limit_date  112650 non-null  object \n",
      " 5   price                112650 non-null  float64\n",
      " 6   freight_value        112650 non-null  float64\n",
      "dtypes: float64(2), int64(1), object(4)\n",
      "memory usage: 6.0+ MB\n"
     ]
    }
   ],
   "source": [
    "df_order_items.info()"
   ]
  },
  {
   "cell_type": "code",
   "execution_count": 7,
   "metadata": {
    "ExecuteTime": {
     "end_time": "2020-07-31T07:19:12.065167Z",
     "start_time": "2020-07-31T07:19:12.052696Z"
    }
   },
   "outputs": [
    {
     "name": "stdout",
     "output_type": "stream",
     "text": [
      "<class 'pandas.core.frame.DataFrame'>\n",
      "RangeIndex: 103886 entries, 0 to 103885\n",
      "Data columns (total 5 columns):\n",
      " #   Column                Non-Null Count   Dtype  \n",
      "---  ------                --------------   -----  \n",
      " 0   order_id              103886 non-null  object \n",
      " 1   payment_sequential    103886 non-null  int64  \n",
      " 2   payment_type          103886 non-null  object \n",
      " 3   payment_installments  103886 non-null  int64  \n",
      " 4   payment_value         103886 non-null  float64\n",
      "dtypes: float64(1), int64(2), object(2)\n",
      "memory usage: 4.0+ MB\n"
     ]
    }
   ],
   "source": [
    "df_order_payments.info()"
   ]
  },
  {
   "cell_type": "code",
   "execution_count": 8,
   "metadata": {
    "ExecuteTime": {
     "end_time": "2020-07-31T07:19:12.090612Z",
     "start_time": "2020-07-31T07:19:12.067883Z"
    }
   },
   "outputs": [
    {
     "name": "stdout",
     "output_type": "stream",
     "text": [
      "<class 'pandas.core.frame.DataFrame'>\n",
      "RangeIndex: 100000 entries, 0 to 99999\n",
      "Data columns (total 7 columns):\n",
      " #   Column                   Non-Null Count   Dtype \n",
      "---  ------                   --------------   ----- \n",
      " 0   review_id                100000 non-null  object\n",
      " 1   order_id                 100000 non-null  object\n",
      " 2   review_score             100000 non-null  int64 \n",
      " 3   review_comment_title     11715 non-null   object\n",
      " 4   review_comment_message   41753 non-null   object\n",
      " 5   review_creation_date     100000 non-null  object\n",
      " 6   review_answer_timestamp  100000 non-null  object\n",
      "dtypes: int64(1), object(6)\n",
      "memory usage: 5.3+ MB\n"
     ]
    }
   ],
   "source": [
    "df_order_reviews.info()"
   ]
  },
  {
   "cell_type": "code",
   "execution_count": 9,
   "metadata": {
    "ExecuteTime": {
     "end_time": "2020-07-31T07:19:12.120708Z",
     "start_time": "2020-07-31T07:19:12.093382Z"
    }
   },
   "outputs": [
    {
     "name": "stdout",
     "output_type": "stream",
     "text": [
      "<class 'pandas.core.frame.DataFrame'>\n",
      "RangeIndex: 99441 entries, 0 to 99440\n",
      "Data columns (total 8 columns):\n",
      " #   Column                         Non-Null Count  Dtype \n",
      "---  ------                         --------------  ----- \n",
      " 0   order_id                       99441 non-null  object\n",
      " 1   customer_id                    99441 non-null  object\n",
      " 2   order_status                   99441 non-null  object\n",
      " 3   order_purchase_timestamp       99441 non-null  object\n",
      " 4   order_approved_at              99281 non-null  object\n",
      " 5   order_delivered_carrier_date   97658 non-null  object\n",
      " 6   order_delivered_customer_date  96476 non-null  object\n",
      " 7   order_estimated_delivery_date  99441 non-null  object\n",
      "dtypes: object(8)\n",
      "memory usage: 6.1+ MB\n"
     ]
    }
   ],
   "source": [
    "df_orders.info()"
   ]
  },
  {
   "cell_type": "code",
   "execution_count": 10,
   "metadata": {
    "ExecuteTime": {
     "end_time": "2020-07-31T07:19:12.130089Z",
     "start_time": "2020-07-31T07:19:12.122094Z"
    }
   },
   "outputs": [
    {
     "name": "stdout",
     "output_type": "stream",
     "text": [
      "<class 'pandas.core.frame.DataFrame'>\n",
      "RangeIndex: 32951 entries, 0 to 32950\n",
      "Data columns (total 9 columns):\n",
      " #   Column                      Non-Null Count  Dtype  \n",
      "---  ------                      --------------  -----  \n",
      " 0   product_id                  32951 non-null  object \n",
      " 1   product_category_name       32341 non-null  object \n",
      " 2   product_name_lenght         32341 non-null  float64\n",
      " 3   product_description_lenght  32341 non-null  float64\n",
      " 4   product_photos_qty          32341 non-null  float64\n",
      " 5   product_weight_g            32949 non-null  float64\n",
      " 6   product_length_cm           32949 non-null  float64\n",
      " 7   product_height_cm           32949 non-null  float64\n",
      " 8   product_width_cm            32949 non-null  float64\n",
      "dtypes: float64(7), object(2)\n",
      "memory usage: 2.3+ MB\n"
     ]
    }
   ],
   "source": [
    "df_products.info()"
   ]
  },
  {
   "cell_type": "code",
   "execution_count": 11,
   "metadata": {
    "ExecuteTime": {
     "end_time": "2020-07-31T07:19:12.136780Z",
     "start_time": "2020-07-31T07:19:12.131463Z"
    }
   },
   "outputs": [
    {
     "name": "stdout",
     "output_type": "stream",
     "text": [
      "<class 'pandas.core.frame.DataFrame'>\n",
      "RangeIndex: 3095 entries, 0 to 3094\n",
      "Data columns (total 4 columns):\n",
      " #   Column                  Non-Null Count  Dtype \n",
      "---  ------                  --------------  ----- \n",
      " 0   seller_id               3095 non-null   object\n",
      " 1   seller_zip_code_prefix  3095 non-null   int64 \n",
      " 2   seller_city             3095 non-null   object\n",
      " 3   seller_state            3095 non-null   object\n",
      "dtypes: int64(1), object(3)\n",
      "memory usage: 96.8+ KB\n"
     ]
    }
   ],
   "source": [
    "df_sellers.info()"
   ]
  },
  {
   "cell_type": "code",
   "execution_count": 12,
   "metadata": {
    "ExecuteTime": {
     "end_time": "2020-07-31T07:19:12.142530Z",
     "start_time": "2020-07-31T07:19:12.138417Z"
    }
   },
   "outputs": [
    {
     "name": "stdout",
     "output_type": "stream",
     "text": [
      "<class 'pandas.core.frame.DataFrame'>\n",
      "RangeIndex: 71 entries, 0 to 70\n",
      "Data columns (total 2 columns):\n",
      " #   Column                         Non-Null Count  Dtype \n",
      "---  ------                         --------------  ----- \n",
      " 0   product_category_name          71 non-null     object\n",
      " 1   product_category_name_english  71 non-null     object\n",
      "dtypes: object(2)\n",
      "memory usage: 1.2+ KB\n"
     ]
    }
   ],
   "source": [
    "df_translation.info()"
   ]
  },
  {
   "cell_type": "markdown",
   "metadata": {},
   "source": [
    "Nous pouvons noter plusieurs choses :\n",
    "1. Il va falloir fusionner ces tables afin de créer une table unique\n",
    "2. La table geolocation n'apporte rien de plus que la table *customers*\n",
    "3. Beaucoup de données redondantes\n",
    "4. Les tables contiennent très peu de données manquantes"
   ]
  },
  {
   "cell_type": "markdown",
   "metadata": {},
   "source": [
    "## Fusion des données"
   ]
  },
  {
   "cell_type": "markdown",
   "metadata": {},
   "source": [
    "Avant de commencer à nettoyer les données, nous allons commencer par fusionner les données afin d'obtenir une table unique. Ce qui sera bien plus pratique pour manipuler les données.  \n",
    "Nous en profiterons pour convertir les dates en utilant une base mensuelle."
   ]
  },
  {
   "cell_type": "code",
   "execution_count": 22,
   "metadata": {
    "ExecuteTime": {
     "end_time": "2020-07-31T07:57:53.634206Z",
     "start_time": "2020-07-31T07:57:53.630135Z"
    }
   },
   "outputs": [],
   "source": [
    "def merge_data(list_df):\n",
    "    \"\"\"Function merging different DataFrames to get a unique one.\n",
    "     Parameters:\n",
    "    list_df: list object\n",
    "        a list with all dataframes to be merged\n",
    "    -----------\n",
    "    Return:\n",
    "        DataFrame\n",
    "    \"\"\"\n",
    "    df = (pd.merge(left=list_df[0], right=list_df[1],\n",
    "                   how=\"left\", on=\"customer_id\")\n",
    "            .merge(right=list_df[2], how=\"left\",\n",
    "                   on=\"order_id\", copy=False)\n",
    "            .merge(right=list_df[3], how=\"left\",\n",
    "                   on=\"product_id\", copy=False)\n",
    "            .merge(right=list_df[4], how=\"left\",\n",
    "                   on=\"order_id\", copy=False)\n",
    "            .merge(right=list_df[5], how=\"left\",\n",
    "                   on=\"order_id\", copy=False))\n",
    "    return df"
   ]
  },
  {
   "cell_type": "code",
   "execution_count": 54,
   "metadata": {
    "ExecuteTime": {
     "end_time": "2020-07-31T08:13:12.108208Z",
     "start_time": "2020-07-31T08:13:11.632635Z"
    }
   },
   "outputs": [],
   "source": [
    "list_df = [df_customers,\n",
    "           df_orders,\n",
    "           df_order_items,\n",
    "           df_products,\n",
    "           df_order_payments,\n",
    "           df_order_reviews]\n",
    "\n",
    "df = merge_data(list_df)"
   ]
  },
  {
   "cell_type": "code",
   "execution_count": 56,
   "metadata": {
    "ExecuteTime": {
     "end_time": "2020-07-31T08:13:32.694821Z",
     "start_time": "2020-07-31T08:13:32.692010Z"
    }
   },
   "outputs": [],
   "source": [
    "def date_monthly(data, feat_to_convert):\n",
    "    \"\"\"Function converting data features into a monthy basis date.\n",
    "    Parameters:\n",
    "    data: DataFrame\n",
    "        the pandas object holding data\n",
    "    feat_to_convert: list of strings\n",
    "        list holding the name of features to convert\n",
    "    -----------\n",
    "    Return:\n",
    "        DataFrame\n",
    "    \"\"\"\n",
    "    for c in feat_to_convert:\n",
    "        data[c] = pd.to_datetime(data[c]).dt.date\n",
    "        #data[c] = pd.to_datetime(data[c].dt.strftime('%Y-%m'))\n",
    "    return data"
   ]
  },
  {
   "cell_type": "code",
   "execution_count": 57,
   "metadata": {
    "ExecuteTime": {
     "end_time": "2020-07-31T08:13:34.771519Z",
     "start_time": "2020-07-31T08:13:34.717731Z"
    }
   },
   "outputs": [],
   "source": [
    "feat_to_convert = [\"order_purchase_timestamp\"]\n",
    "df = date_monthly(df, feat_to_convert)"
   ]
  },
  {
   "cell_type": "markdown",
   "metadata": {},
   "source": [
    "## Ingénierie des variables"
   ]
  },
  {
   "cell_type": "markdown",
   "metadata": {},
   "source": [
    "Bon nombre des variables ne sont pas exploitables en l'état, il va falloir les transformer avant de penser à les utiliser pour faire tourner des modèles de partionnement.\n",
    "\n",
    "De plus, ayant pour but de faire une segmentation des clients il va nous falloir regrouper les données par client. Dans la base de donnée, un client unique est assigné à chaque transaction. Ainsi, un client ayant effectué plusieurs transactions se verra attribuer plusieurs *customer_id*. C'est pourquoi nous avons aussi accès à la variable *customer_unique_id*. C'est cette dernière que nous utiliserons pour regrouper les données."
   ]
  },
  {
   "cell_type": "markdown",
   "metadata": {},
   "source": [
    "### Variables RFM"
   ]
  },
  {
   "cell_type": "markdown",
   "metadata": {},
   "source": [
    "La méthode de segmentation de clients la plus utilisée est le calcul d'un score RFM (Recency, Frequency, Monetary Value). Ce score consiste à donner une note entre 1 et 10 pour trois variables :\n",
    "- récence : maximum entre \"10 - le nombre de mois écoulés entre aujourd'hui et le dernier achat effectué\" et 1\n",
    "- fréquence : maximum entre \"le nombre d'achats effectués (avec une limite de 10) sur une période (en général 12 mois) et 1\".\n",
    "- achat : totalité des achats sur une période de temps ou montant du panier moyen. Ici nous prendrons le panier moyen, et attribuerons comme note le numéro du décile.\n",
    "\n",
    "Le score est obtenu en additionnant ces trois notes."
   ]
  },
  {
   "cell_type": "code",
   "execution_count": 105,
   "metadata": {
    "ExecuteTime": {
     "end_time": "2020-07-31T09:43:52.410677Z",
     "start_time": "2020-07-31T09:43:52.403687Z"
    },
    "scrolled": true
   },
   "outputs": [],
   "source": [
    "def get_rfm(data, m_mean=False):\n",
    "    \"\"\"Function to get the three RFM features,\n",
    "    commonly used in database marketing.\n",
    "    Parameters:\n",
    "    data: DataFrame\n",
    "        the pandas object holding data\n",
    "    m_mean: bool, default False\n",
    "        to get the mean and not the total for the monetary value\n",
    "    -----------\n",
    "    Return:\n",
    "        DataFrame\n",
    "    \"\"\"\n",
    "    r_feature = \"order_purchase_timestamp\"\n",
    "    f_feature = \"order_id\"\n",
    "    m_feature = \"price\"\n",
    "    values = [r_feature, f_feature, m_feature]\n",
    "    n_customers = data[\"customer_unique_id\"].nunique()\n",
    "    # Set a reference date\n",
    "    date_ref = data[r_feature].max()\n",
    "    # define the aggregating function for each feature\n",
    "    aggfunc = {r_feature: max,\n",
    "               f_feature: pd.Series.nunique,\n",
    "               m_feature: sum}\n",
    "    # group by unique client\n",
    "    df = pd.pivot_table(data, index=\"customer_unique_id\",\n",
    "                        values=values, aggfunc=aggfunc)\n",
    "    # rename features\n",
    "    df = df.rename(columns={r_feature: \"Recency\",\n",
    "                            f_feature: \"Frequency\",\n",
    "                            m_feature: \"Monetary_value\"})\n",
    "    # get the score for the Recency\n",
    "    df[\"Recency\"] = 10 - (date_ref-df[\"Recency\"])/np.timedelta64(1, 'M')\n",
    "    df[\"Recency\"].round().fillna(0, inplace=True)\n",
    "    df[\"Recency\"].where(df[\"Recency\"]>0, other=1, inplace=True)\n",
    "    # get the score for Moneaty_value\n",
    "    df[\"Monetary_value\"].fillna(0, inplace=True)\n",
    "    if m_mean:\n",
    "        df[\"Monetary_value\"] /= df[\"Frequency\"]\n",
    "    df[\"Monetary_value\"] = (pd.qcut(df[\"Monetary_value\"], q=10,\n",
    "                                   labels=np.linspace(1, 10, 10))\n",
    "                              .astype(int))\n",
    "    # get the score for the Frequency\n",
    "    df[\"Frequency\"].fillna(0, inplace=True)\n",
    "    df[\"Frequency\"].where(df[\"Frequency\"]>0, other=1, inplace=True)\n",
    "    df[\"Frequency\"].where(df[\"Frequency\"]<10, other=10, inplace=True)\n",
    "    return df[[\"Recency\", \"Frequency\", \"Monetary_value\"]]"
   ]
  },
  {
   "cell_type": "code",
   "execution_count": 106,
   "metadata": {
    "ExecuteTime": {
     "end_time": "2020-07-31T09:44:07.452123Z",
     "start_time": "2020-07-31T09:43:53.562635Z"
    }
   },
   "outputs": [
    {
     "data": {
      "text/html": [
       "<div>\n",
       "<style scoped>\n",
       "    .dataframe tbody tr th:only-of-type {\n",
       "        vertical-align: middle;\n",
       "    }\n",
       "\n",
       "    .dataframe tbody tr th {\n",
       "        vertical-align: top;\n",
       "    }\n",
       "\n",
       "    .dataframe thead th {\n",
       "        text-align: right;\n",
       "    }\n",
       "</style>\n",
       "<table border=\"1\" class=\"dataframe\">\n",
       "  <thead>\n",
       "    <tr style=\"text-align: right;\">\n",
       "      <th></th>\n",
       "      <th>Recency</th>\n",
       "      <th>Frequency</th>\n",
       "      <th>Monetary_value</th>\n",
       "    </tr>\n",
       "  </thead>\n",
       "  <tbody>\n",
       "    <tr>\n",
       "      <th>count</th>\n",
       "      <td>96096.000000</td>\n",
       "      <td>96096.000000</td>\n",
       "      <td>96096.000000</td>\n",
       "    </tr>\n",
       "    <tr>\n",
       "      <th>mean</th>\n",
       "      <td>2.827508</td>\n",
       "      <td>1.034736</td>\n",
       "      <td>5.491363</td>\n",
       "    </tr>\n",
       "    <tr>\n",
       "      <th>std</th>\n",
       "      <td>2.388015</td>\n",
       "      <td>0.210106</td>\n",
       "      <td>2.870511</td>\n",
       "    </tr>\n",
       "    <tr>\n",
       "      <th>min</th>\n",
       "      <td>0.012115</td>\n",
       "      <td>1.000000</td>\n",
       "      <td>1.000000</td>\n",
       "    </tr>\n",
       "    <tr>\n",
       "      <th>25%</th>\n",
       "      <td>1.000000</td>\n",
       "      <td>1.000000</td>\n",
       "      <td>3.000000</td>\n",
       "    </tr>\n",
       "    <tr>\n",
       "      <th>50%</th>\n",
       "      <td>1.162036</td>\n",
       "      <td>1.000000</td>\n",
       "      <td>5.000000</td>\n",
       "    </tr>\n",
       "    <tr>\n",
       "      <th>75%</th>\n",
       "      <td>4.611799</td>\n",
       "      <td>1.000000</td>\n",
       "      <td>8.000000</td>\n",
       "    </tr>\n",
       "    <tr>\n",
       "      <th>max</th>\n",
       "      <td>10.000000</td>\n",
       "      <td>10.000000</td>\n",
       "      <td>10.000000</td>\n",
       "    </tr>\n",
       "  </tbody>\n",
       "</table>\n",
       "</div>"
      ],
      "text/plain": [
       "            Recency     Frequency  Monetary_value\n",
       "count  96096.000000  96096.000000    96096.000000\n",
       "mean       2.827508      1.034736        5.491363\n",
       "std        2.388015      0.210106        2.870511\n",
       "min        0.012115      1.000000        1.000000\n",
       "25%        1.000000      1.000000        3.000000\n",
       "50%        1.162036      1.000000        5.000000\n",
       "75%        4.611799      1.000000        8.000000\n",
       "max       10.000000     10.000000       10.000000"
      ]
     },
     "execution_count": 106,
     "metadata": {},
     "output_type": "execute_result"
    }
   ],
   "source": [
    "data = get_rfm(df, m_mean=True)\n",
    "data.describe()"
   ]
  },
  {
   "cell_type": "code",
   "execution_count": null,
   "metadata": {
    "ExecuteTime": {
     "end_time": "2020-07-31T07:19:13.317740Z",
     "start_time": "2020-07-31T07:19:09.726Z"
    }
   },
   "outputs": [],
   "source": [
    "# Create a new dataframe with all required data\n",
    "df = pd.merge(df_orders, df_order_items, how=\"inner\",\n",
    "              on=\"order_id\", copy=True)\n",
    "df = df.merge(right=df_customers, how=\"inner\",\n",
    "                on=\"customer_id\", copy=False)\n",
    "\n",
    "values = [\"order_id\",\n",
    "          \"product_id\",\n",
    "          \"price\",\n",
    "          \"freight_value\",\n",
    "          \"order_status\"]\n",
    "aggfunc = {\"order_id\": pd.Series.nunique,\n",
    "           \"product_id\": \"count\",\n",
    "           \"price\": sum,\n",
    "           \"freight_value\": sum,\n",
    "           \"order_status\": lambda s: s[s==\"delivered\"].count()}\n",
    "\n",
    "pivot_orders = (pd.pivot_table(df, index=\"customer_unique_id\",\n",
    "                               values=values, aggfunc=aggfunc)\n",
    "                  .rename(columns={\"order_id\": \"n_orders\",\n",
    "                                   \"product_id\": \"order_n_products\",\n",
    "                                   \"price\": \"order_price\",\n",
    "                                   \"freight_value\": \"order_freight_value\",\n",
    "                                   \"order_status\": \"order_delivered\"})\n",
    "                  .assign(order_delivered=lambda df: df[df[\"order_n_products\"]>0][\"order_delivered\"]/\n",
    "                                                     df[df[\"order_n_products\"]>0][\"order_n_products\"],               \n",
    "                          order_n_products=lambda df: df[\"order_n_products\"]/df[\"n_orders\"],\n",
    "                          order_price=lambda df: df[\"order_price\"]/df[\"n_orders\"],\n",
    "                          order_freight_value= lambda df: df[\"order_freight_value\"]/df[\"n_orders\"]))"
   ]
  },
  {
   "cell_type": "code",
   "execution_count": null,
   "metadata": {
    "ExecuteTime": {
     "end_time": "2020-07-31T07:19:13.318691Z",
     "start_time": "2020-07-31T07:19:09.728Z"
    }
   },
   "outputs": [],
   "source": [
    "pivot_orders.describe()"
   ]
  },
  {
   "cell_type": "markdown",
   "metadata": {
    "heading_collapsed": true
   },
   "source": [
    "### Variables liées aux produits"
   ]
  },
  {
   "cell_type": "markdown",
   "metadata": {
    "hidden": true
   },
   "source": [
    "Nous traiterons ensuite les variables liées aux produits. Pour chaque client, nous calculerons les variables suivantes :\n",
    "- prix moyen par produit\n",
    "- nombre moyen de photos par produit\n",
    "- longeur moyenne de description par produit\n",
    "- frais de port moyens par produit"
   ]
  },
  {
   "cell_type": "code",
   "execution_count": null,
   "metadata": {
    "ExecuteTime": {
     "end_time": "2020-07-31T07:19:13.319807Z",
     "start_time": "2020-07-31T07:19:09.730Z"
    },
    "hidden": true
   },
   "outputs": [],
   "source": [
    "# Add products data\n",
    "df = df.merge(right=df_products, how=\"inner\",\n",
    "                  on=\"product_id\", copy=False)\n",
    "\n",
    "values = [\"price\",\n",
    "          \"product_photos_qty\",\n",
    "          \"product_description_lenght\",\n",
    "          \"freight_value\"]\n",
    "aggfunc = {\"price\": 'mean',\n",
    "           \"product_photos_qty\": 'mean',\n",
    "           \"product_description_lenght\": 'mean',\n",
    "           \"freight_value\": 'mean'}\n",
    "\n",
    "pivot_products = pd.pivot_table(df, index=\"customer_unique_id\",\n",
    "                                values=values, aggfunc=aggfunc)"
   ]
  },
  {
   "cell_type": "code",
   "execution_count": null,
   "metadata": {
    "ExecuteTime": {
     "end_time": "2020-07-31T07:19:13.321267Z",
     "start_time": "2020-07-31T07:19:09.731Z"
    },
    "hidden": true
   },
   "outputs": [],
   "source": [
    "pivot_products.describe()"
   ]
  },
  {
   "cell_type": "markdown",
   "metadata": {
    "heading_collapsed": true
   },
   "source": [
    "### Catégories des produits"
   ]
  },
  {
   "cell_type": "markdown",
   "metadata": {
    "hidden": true
   },
   "source": [
    "Nous allons maintenant créer une variable par catégorie de produit. Nous prendrons les catégories traduites en anglais, plus parlantes que les catégories en portugais. Pour chaque catégorie, nous renseignerons la proportion de produits de cette catégorie acheté par chaque client."
   ]
  },
  {
   "cell_type": "code",
   "execution_count": null,
   "metadata": {
    "ExecuteTime": {
     "end_time": "2020-07-31T07:19:13.322127Z",
     "start_time": "2020-07-31T07:19:09.732Z"
    },
    "hidden": true
   },
   "outputs": [],
   "source": [
    "# Add the English translation of the product category\n",
    "df = df.merge(right=df_translation, how=\"inner\",\n",
    "              on=\"product_category_name\", copy=False)\n",
    "\n",
    "# Create a feature by category\n",
    "list_products_cat = df[\"product_category_name_english\"].unique().tolist()\n",
    "aggfunc = {\"product_id\": 'count'}\n",
    "for c in list_products_cat:\n",
    "    cond = df[\"product_category_name_english\"]==c\n",
    "    df[c] = 1\n",
    "    df[c] = df[c].where(cond, 0)\n",
    "    aggfunc[c] = sum\n",
    "\n",
    "# Create the pivot table\n",
    "values = [\"product_id\"] + list_products_cat\n",
    "pivot_cat = pd.pivot_table(df, index=\"customer_unique_id\",\n",
    "                           values=values, aggfunc=aggfunc)\n",
    "# Calculate the proportions\n",
    "for c in list_products_cat:\n",
    "    pivot_cat[c] /= pivot_cat[\"product_id\"]\n",
    "pivot_cat = pivot_cat.drop(columns=[\"product_id\"])"
   ]
  },
  {
   "cell_type": "code",
   "execution_count": null,
   "metadata": {
    "ExecuteTime": {
     "end_time": "2020-07-31T07:19:13.322913Z",
     "start_time": "2020-07-31T07:19:09.734Z"
    },
    "hidden": true
   },
   "outputs": [],
   "source": [
    "pivot_cat.describe()"
   ]
  },
  {
   "cell_type": "markdown",
   "metadata": {},
   "source": [
    "### Variables liées aux commentaires"
   ]
  },
  {
   "cell_type": "markdown",
   "metadata": {},
   "source": [
    "Nous traiterons maintenant les variables liées aux commentaires. Pour chaque client, nous calculerons les variables suivantes :\n",
    "- nombre moyens de commentaires par transactions\n",
    "- score moyen\n",
    "- temps de réponse moyen"
   ]
  },
  {
   "cell_type": "code",
   "execution_count": null,
   "metadata": {
    "ExecuteTime": {
     "end_time": "2020-07-31T07:19:13.324054Z",
     "start_time": "2020-07-31T07:19:09.736Z"
    }
   },
   "outputs": [],
   "source": [
    "# Create a new dataframe with all required data\n",
    "df = pd.merge(df_orders, df_order_reviews, how=\"inner\",\n",
    "              on=\"order_id\", copy=True)\n",
    "df = df.merge(right=df_customers, how=\"inner\",\n",
    "              on=\"customer_id\", copy=False)\n",
    "# Convert date features into 'datetime' type\n",
    "df[\"review_creation_date\"] = pd.to_datetime(df[\"review_creation_date\"])\n",
    "df[\"review_answer_timestamp\"] = pd.to_datetime(df[\"review_answer_timestamp\"])\n",
    "# Calculate the time to answer in days\n",
    "df[\"review_answer_timedelta\"] = df[\"review_answer_timestamp\"] - df[\"review_creation_date\"]\n",
    "df[\"review_answer_timedelta\"] /= pd.to_timedelta(1, unit=\"D\")\n",
    "\n",
    "values = [\"order_id\",\n",
    "          \"review_id\",\n",
    "          \"review_score\",\n",
    "          \"review_answer_timedelta\"]\n",
    "aggfunc = {\"order_id\": pd.Series.nunique,\n",
    "           \"review_id\": 'count',\n",
    "           \"review_score\": 'mean',\n",
    "           \"review_answer_timedelta\": 'mean'}\n",
    "\n",
    "pivot_reviews = (pd.pivot_table(df, index=\"customer_unique_id\",\n",
    "                               values=values, aggfunc=aggfunc)\n",
    "                  .rename(columns={\"order_id\": \"n_orders\",\n",
    "                                   \"review_id\": \"order_n_reviews\"})\n",
    "                  .assign(order_n_reviews=lambda df: df[\"order_n_reviews\"]/df[\"n_orders\"])\n",
    "                  .drop(columns=[\"n_orders\"]))"
   ]
  },
  {
   "cell_type": "code",
   "execution_count": null,
   "metadata": {
    "ExecuteTime": {
     "end_time": "2020-07-31T07:19:13.325229Z",
     "start_time": "2020-07-31T07:19:09.738Z"
    }
   },
   "outputs": [],
   "source": [
    "pivot_reviews.describe()"
   ]
  },
  {
   "cell_type": "markdown",
   "metadata": {},
   "source": [
    "### Moyens de paiement"
   ]
  },
  {
   "cell_type": "markdown",
   "metadata": {},
   "source": [
    "Il pourrait être utile de voir le moyen de paiement privilégié par chaque client. Pour cela nous allons créer une variable par moyen de paiement possible, et nous renseignerons la proportion du montant total payé par ce moyen de paiement."
   ]
  },
  {
   "cell_type": "code",
   "execution_count": null,
   "metadata": {
    "ExecuteTime": {
     "end_time": "2020-07-31T07:19:13.326189Z",
     "start_time": "2020-07-31T07:19:09.739Z"
    }
   },
   "outputs": [],
   "source": [
    "# Create a new dataframe with all required data\n",
    "df = pd.merge(df_orders, df_order_payments, how=\"inner\",\n",
    "              on=\"order_id\", copy=True)\n",
    "df = df.merge(right=df_customers, how=\"inner\",\n",
    "              on=\"customer_id\", copy=False)\n",
    "\n",
    "# Create a feature by type of payment\n",
    "list_payment_type = df[\"payment_type\"].unique().tolist()\n",
    "aggfunc = {\"payment_value\": sum}\n",
    "for c in list_payment_type:\n",
    "    cond = df[\"payment_type\"]==c\n",
    "    df[c] = df[\"payment_value\"]\n",
    "    df[c] = df[c].where(cond, 0)\n",
    "    aggfunc[c] = sum\n",
    "\n",
    "# Create the pivot table\n",
    "values = [\"payment_value\"] + list_payment_type\n",
    "pivot_payment = pd.pivot_table(df, index=\"customer_unique_id\",\n",
    "                           values=values, aggfunc=aggfunc)\n",
    "# Calculate the proportions\n",
    "for c in list_payment_type:\n",
    "    pivot_payment[c] /= pivot_payment[\"payment_value\"]\n",
    "pivot_payment = pivot_payment.drop(columns=[\"payment_value\", \"not_defined\"])"
   ]
  },
  {
   "cell_type": "code",
   "execution_count": null,
   "metadata": {
    "ExecuteTime": {
     "end_time": "2020-07-31T07:19:13.327441Z",
     "start_time": "2020-07-31T07:19:09.741Z"
    }
   },
   "outputs": [],
   "source": [
    "pivot_payment.describe()"
   ]
  },
  {
   "cell_type": "markdown",
   "metadata": {},
   "source": [
    "### Les plus gros vendeurs"
   ]
  },
  {
   "cell_type": "markdown",
   "metadata": {},
   "source": [
    "Nous allons créer une variable pour chacun des 5 plus gros vendeurs. Nous renseignerons ces variables par le pourcentage des produits achetés auprès de ces vendeurs par rapport au total des produits achetés."
   ]
  },
  {
   "cell_type": "code",
   "execution_count": null,
   "metadata": {
    "ExecuteTime": {
     "end_time": "2020-07-31T07:19:13.328592Z",
     "start_time": "2020-07-31T07:19:09.743Z"
    }
   },
   "outputs": [],
   "source": [
    "# Get the top five of sellers\n",
    "top_five_sellers = df_order_items['seller_id'].value_counts()[:5].index.tolist()\n",
    "\n",
    "# Create a new dataframe with all required data\n",
    "df = pd.merge(df_orders, df_order_items, how=\"inner\",\n",
    "              on=\"order_id\", copy=True)\n",
    "df = df.merge(right=df_customers, how=\"inner\",\n",
    "                on=\"customer_id\", copy=False)\n",
    "\n",
    "# Create a feature by top sellers\n",
    "aggfunc = {\"product_id\": 'count'}\n",
    "for c in top_five_sellers:\n",
    "    cond = df[\"seller_id\"]==c\n",
    "    df[c] = 1\n",
    "    df[c] = df[c].where(cond, 0)\n",
    "    aggfunc[c] = sum\n",
    "\n",
    "# Create the pivot table\n",
    "values = [\"product_id\"] + top_five_sellers\n",
    "pivot_top_sellers = pd.pivot_table(df, index=\"customer_unique_id\",\n",
    "                                   values=values, aggfunc=aggfunc)\n",
    "# Calculate the proportions\n",
    "for c in top_five_sellers:\n",
    "    pivot_top_sellers[c] /= pivot_top_sellers[\"product_id\"]\n",
    "pivot_top_sellers = pivot_top_sellers.drop(columns=[\"product_id\"])  "
   ]
  },
  {
   "cell_type": "code",
   "execution_count": null,
   "metadata": {
    "ExecuteTime": {
     "end_time": "2020-07-31T07:19:13.329677Z",
     "start_time": "2020-07-31T07:19:09.745Z"
    }
   },
   "outputs": [],
   "source": [
    "pivot_top_sellers.describe()"
   ]
  },
  {
   "cell_type": "markdown",
   "metadata": {},
   "source": [
    "### États"
   ]
  },
  {
   "cell_type": "markdown",
   "metadata": {},
   "source": [
    "Les dernière variables que nous allons créer sont les état ou vivent les clients. Il y aura une variable par état possible, avec pour valeur :\n",
    "- **1** si le client y vit\n",
    "- **0** sinon.\n",
    "\n",
    "C'est ce qu'on appelle un **one hot encoding**. Pour cela, nous utiliserons la classe `OneHotEncoder` de *sklearn.preprocessing*."
   ]
  },
  {
   "cell_type": "code",
   "execution_count": null,
   "metadata": {
    "ExecuteTime": {
     "end_time": "2020-07-31T07:19:13.330419Z",
     "start_time": "2020-07-31T07:19:09.746Z"
    }
   },
   "outputs": [],
   "source": [
    "from sklearn.preprocessing import OneHotEncoder\n",
    "\n",
    "# Create the features\n",
    "df = df_customers.copy()\n",
    "cat_encoder = OneHotEncoder()\n",
    "states_1hot = cat_encoder.fit_transform(df['customer_state'].values.reshape(-1, 1))\n",
    "list_states = cat_encoder.categories_[0].tolist()\n",
    "df_1hot = pd.DataFrame(states_1hot.toarray(),\n",
    "                       columns=list_states,\n",
    "                       index=df.index)\n",
    "df = pd.concat([df, df_1hot], axis=1)\n",
    "\n",
    "# Group by unique customer\n",
    "values = list_states\n",
    "pivot_states = pd.pivot_table(df, index=\"customer_unique_id\",\n",
    "                              values=values, aggfunc=np.mean)"
   ]
  },
  {
   "cell_type": "markdown",
   "metadata": {},
   "source": [
    "### Fusion des pivot tables"
   ]
  },
  {
   "cell_type": "markdown",
   "metadata": {},
   "source": [
    "Nous allons fusionner toutes les tables créées précédemment afin d'obtenir une table unique."
   ]
  },
  {
   "cell_type": "code",
   "execution_count": null,
   "metadata": {
    "ExecuteTime": {
     "end_time": "2020-07-31T07:19:13.331286Z",
     "start_time": "2020-07-31T07:19:09.748Z"
    }
   },
   "outputs": [],
   "source": [
    "from functools import reduce\n",
    "\n",
    "list_pivot_orders = [pivot_orders,\n",
    "                     pivot_products,\n",
    "                     pivot_cat,\n",
    "                     pivot_reviews,\n",
    "                     pivot_payment,\n",
    "                     pivot_top_sellers,\n",
    "                     pivot_states]\n",
    "# Merge all DataFrame\n",
    "data = reduce(lambda left, right: pd.merge(left, right, how=\"inner\",\n",
    "                                           on=\"customer_unique_id\"),\n",
    "              list_pivot_orders)\n",
    "print(data.shape)"
   ]
  },
  {
   "cell_type": "markdown",
   "metadata": {},
   "source": [
    "## Export des données"
   ]
  },
  {
   "cell_type": "code",
   "execution_count": null,
   "metadata": {
    "ExecuteTime": {
     "end_time": "2020-07-31T07:19:13.332090Z",
     "start_time": "2020-07-31T07:19:09.750Z"
    }
   },
   "outputs": [],
   "source": [
    "# export in csv format the cleaned/transformed datasets\n",
    "data.to_csv(\"data/data_cleaned.csv\")"
   ]
  }
 ],
 "metadata": {
  "kernelspec": {
   "display_name": "Python 3",
   "language": "python",
   "name": "python3"
  },
  "language_info": {
   "codemirror_mode": {
    "name": "ipython",
    "version": 3
   },
   "file_extension": ".py",
   "mimetype": "text/x-python",
   "name": "python",
   "nbconvert_exporter": "python",
   "pygments_lexer": "ipython3",
   "version": "3.8.5"
  },
  "toc": {
   "base_numbering": 1,
   "nav_menu": {},
   "number_sections": true,
   "sideBar": true,
   "skip_h1_title": true,
   "title_cell": "Table of Contents",
   "title_sidebar": "Contents",
   "toc_cell": true,
   "toc_position": {},
   "toc_section_display": true,
   "toc_window_display": false
  }
 },
 "nbformat": 4,
 "nbformat_minor": 4
}
