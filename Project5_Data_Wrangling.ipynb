{
 "cells": [
  {
   "cell_type": "markdown",
   "metadata": {},
   "source": [
    "# Projet 5 : Segmenter des clients d'un site e-commerce\n",
    "\n",
    "*Pierre-Eloi Ragetly*\n",
    "\n",
    "Ce projet fait parti du parcours *Data Scientist* d'OpenClassroooms.\n",
    "\n",
    "L'objectif pricipal est de réaliser **une segmentation des clients** d'un site de e-commerce, **une proposition de contrat de maintenance** devra être inclue.\n",
    "\n",
    "Les données mises à notre disposition proviennent du site *kaggle* :\n",
    "https://www.kaggle.com/olistbr/brazilian-ecommerce"
   ]
  },
  {
   "cell_type": "markdown",
   "metadata": {},
   "source": [
    "# Partie I : Data Wrangling\n",
    "\n",
    "L'objectif de ce notebook est de décrire les opérations de nettoyage nécessaires à l'obtention d'un jeu de données exploitable."
   ]
  },
  {
   "cell_type": "code",
   "execution_count": 1,
   "metadata": {
    "ExecuteTime": {
     "end_time": "2020-07-22T14:57:33.843215Z",
     "start_time": "2020-07-22T14:57:32.740905Z"
    }
   },
   "outputs": [],
   "source": [
    "# Import usual libraries\n",
    "%matplotlib inline\n",
    "import matplotlib.pyplot as plt\n",
    "import numpy as np\n",
    "import scipy.stats as stats\n",
    "import pandas as pd\n",
    "import seaborn as sns"
   ]
  },
  {
   "cell_type": "code",
   "execution_count": 2,
   "metadata": {
    "ExecuteTime": {
     "end_time": "2020-07-22T14:57:33.857155Z",
     "start_time": "2020-07-22T14:57:33.847200Z"
    }
   },
   "outputs": [],
   "source": [
    "# Change some default parameters of matplotlib using seaborn\n",
    "plt.rcParams.update(plt.rcParamsDefault)\n",
    "plt.rcParams.update({'axes.titleweight': 'bold'})\n",
    "sns.set(style='ticks')\n",
    "current_palette = sns.color_palette('RdBu')\n",
    "sns.set_palette(current_palette)"
   ]
  },
  {
   "cell_type": "markdown",
   "metadata": {
    "toc": true
   },
   "source": [
    "<h1>Table of Contents<span class=\"tocSkip\"></span></h1>\n",
    "<div class=\"toc\"><ul class=\"toc-item\"><li><span><a href=\"#Récupération-des-données\" data-toc-modified-id=\"Récupération-des-données-1\"><span class=\"toc-item-num\">1&nbsp;&nbsp;</span>Récupération des données</a></span></li><li><span><a href=\"#Ingénierie-des-variables\" data-toc-modified-id=\"Ingénierie-des-variables-2\"><span class=\"toc-item-num\">2&nbsp;&nbsp;</span>Ingénierie des variables</a></span><ul class=\"toc-item\"><li><span><a href=\"#Variables-liées-aux-transactions\" data-toc-modified-id=\"Variables-liées-aux-transactions-2.1\"><span class=\"toc-item-num\">2.1&nbsp;&nbsp;</span>Variables liées aux transactions</a></span></li><li><span><a href=\"#Variables-liées-aux-produits\" data-toc-modified-id=\"Variables-liées-aux-produits-2.2\"><span class=\"toc-item-num\">2.2&nbsp;&nbsp;</span>Variables liées aux produits</a></span></li><li><span><a href=\"#Catégories-des-produits\" data-toc-modified-id=\"Catégories-des-produits-2.3\"><span class=\"toc-item-num\">2.3&nbsp;&nbsp;</span>Catégories des produits</a></span></li><li><span><a href=\"#Variables-liées-aux-commentaires\" data-toc-modified-id=\"Variables-liées-aux-commentaires-2.4\"><span class=\"toc-item-num\">2.4&nbsp;&nbsp;</span>Variables liées aux commentaires</a></span></li><li><span><a href=\"#Moyens-de-paiement\" data-toc-modified-id=\"Moyens-de-paiement-2.5\"><span class=\"toc-item-num\">2.5&nbsp;&nbsp;</span>Moyens de paiement</a></span></li><li><span><a href=\"#États\" data-toc-modified-id=\"États-2.6\"><span class=\"toc-item-num\">2.6&nbsp;&nbsp;</span>États</a></span></li></ul></li></ul></div>"
   ]
  },
  {
   "cell_type": "markdown",
   "metadata": {},
   "source": [
    "## Récupération des données\n",
    "\n",
    "Une fois les données téléchargées, nous pouvons les charger dans un DataFrame en utilisant la librairie **pandas**."
   ]
  },
  {
   "cell_type": "code",
   "execution_count": 3,
   "metadata": {
    "ExecuteTime": {
     "end_time": "2020-07-22T14:57:36.188052Z",
     "start_time": "2020-07-22T14:57:33.859147Z"
    }
   },
   "outputs": [],
   "source": [
    "df_customers =  pd.read_csv(\"data/olist_customers_dataset.csv\")\n",
    "df_geolocation = pd.read_csv(\"data/olist_geolocation_dataset.csv\")\n",
    "df_order_items = pd.read_csv(\"data/olist_order_items_dataset.csv\")\n",
    "df_order_payments = pd.read_csv(\"data/olist_order_payments_dataset.csv\")\n",
    "df_order_reviews = pd.read_csv(\"data/olist_order_reviews_dataset.csv\")\n",
    "df_orders = pd.read_csv(\"data/olist_orders_dataset.csv\")\n",
    "df_products = pd.read_csv(\"data/olist_products_dataset.csv\")\n",
    "df_sellers = pd.read_csv(\"data/olist_sellers_dataset.csv\")\n",
    "df_translation = pd.read_csv(\"data/product_category_name_translation.csv\")"
   ]
  },
  {
   "cell_type": "markdown",
   "metadata": {},
   "source": [
    "Regardons ce qui est contenu dans chaque DataFrame."
   ]
  },
  {
   "cell_type": "code",
   "execution_count": 4,
   "metadata": {
    "ExecuteTime": {
     "end_time": "2020-07-22T14:57:36.221996Z",
     "start_time": "2020-07-22T14:57:36.190041Z"
    }
   },
   "outputs": [
    {
     "name": "stdout",
     "output_type": "stream",
     "text": [
      "<class 'pandas.core.frame.DataFrame'>\n",
      "RangeIndex: 99441 entries, 0 to 99440\n",
      "Data columns (total 5 columns):\n",
      " #   Column                    Non-Null Count  Dtype \n",
      "---  ------                    --------------  ----- \n",
      " 0   customer_id               99441 non-null  object\n",
      " 1   customer_unique_id        99441 non-null  object\n",
      " 2   customer_zip_code_prefix  99441 non-null  int64 \n",
      " 3   customer_city             99441 non-null  object\n",
      " 4   customer_state            99441 non-null  object\n",
      "dtypes: int64(1), object(4)\n",
      "memory usage: 3.8+ MB\n"
     ]
    }
   ],
   "source": [
    "df_customers.info()"
   ]
  },
  {
   "cell_type": "code",
   "execution_count": 5,
   "metadata": {
    "ExecuteTime": {
     "end_time": "2020-07-22T14:57:36.345454Z",
     "start_time": "2020-07-22T14:57:36.223967Z"
    }
   },
   "outputs": [
    {
     "name": "stdout",
     "output_type": "stream",
     "text": [
      "<class 'pandas.core.frame.DataFrame'>\n",
      "RangeIndex: 1000163 entries, 0 to 1000162\n",
      "Data columns (total 5 columns):\n",
      " #   Column                       Non-Null Count    Dtype  \n",
      "---  ------                       --------------    -----  \n",
      " 0   geolocation_zip_code_prefix  1000163 non-null  int64  \n",
      " 1   geolocation_lat              1000163 non-null  float64\n",
      " 2   geolocation_lng              1000163 non-null  float64\n",
      " 3   geolocation_city             1000163 non-null  object \n",
      " 4   geolocation_state            1000163 non-null  object \n",
      "dtypes: float64(2), int64(1), object(2)\n",
      "memory usage: 38.2+ MB\n"
     ]
    }
   ],
   "source": [
    "df_geolocation.info()"
   ]
  },
  {
   "cell_type": "code",
   "execution_count": 6,
   "metadata": {
    "ExecuteTime": {
     "end_time": "2020-07-22T14:57:36.387278Z",
     "start_time": "2020-07-22T14:57:36.346453Z"
    }
   },
   "outputs": [
    {
     "name": "stdout",
     "output_type": "stream",
     "text": [
      "<class 'pandas.core.frame.DataFrame'>\n",
      "RangeIndex: 112650 entries, 0 to 112649\n",
      "Data columns (total 7 columns):\n",
      " #   Column               Non-Null Count   Dtype  \n",
      "---  ------               --------------   -----  \n",
      " 0   order_id             112650 non-null  object \n",
      " 1   order_item_id        112650 non-null  int64  \n",
      " 2   product_id           112650 non-null  object \n",
      " 3   seller_id            112650 non-null  object \n",
      " 4   shipping_limit_date  112650 non-null  object \n",
      " 5   price                112650 non-null  float64\n",
      " 6   freight_value        112650 non-null  float64\n",
      "dtypes: float64(2), int64(1), object(4)\n",
      "memory usage: 6.0+ MB\n"
     ]
    }
   ],
   "source": [
    "df_order_items.info()"
   ]
  },
  {
   "cell_type": "code",
   "execution_count": 7,
   "metadata": {
    "ExecuteTime": {
     "end_time": "2020-07-22T14:57:36.407192Z",
     "start_time": "2020-07-22T14:57:36.388276Z"
    }
   },
   "outputs": [
    {
     "name": "stdout",
     "output_type": "stream",
     "text": [
      "<class 'pandas.core.frame.DataFrame'>\n",
      "RangeIndex: 103886 entries, 0 to 103885\n",
      "Data columns (total 5 columns):\n",
      " #   Column                Non-Null Count   Dtype  \n",
      "---  ------                --------------   -----  \n",
      " 0   order_id              103886 non-null  object \n",
      " 1   payment_sequential    103886 non-null  int64  \n",
      " 2   payment_type          103886 non-null  object \n",
      " 3   payment_installments  103886 non-null  int64  \n",
      " 4   payment_value         103886 non-null  float64\n",
      "dtypes: float64(1), int64(2), object(2)\n",
      "memory usage: 4.0+ MB\n"
     ]
    }
   ],
   "source": [
    "df_order_payments.info()"
   ]
  },
  {
   "cell_type": "code",
   "execution_count": 8,
   "metadata": {
    "ExecuteTime": {
     "end_time": "2020-07-22T14:57:36.444555Z",
     "start_time": "2020-07-22T14:57:36.410179Z"
    }
   },
   "outputs": [
    {
     "name": "stdout",
     "output_type": "stream",
     "text": [
      "<class 'pandas.core.frame.DataFrame'>\n",
      "RangeIndex: 100000 entries, 0 to 99999\n",
      "Data columns (total 7 columns):\n",
      " #   Column                   Non-Null Count   Dtype \n",
      "---  ------                   --------------   ----- \n",
      " 0   review_id                100000 non-null  object\n",
      " 1   order_id                 100000 non-null  object\n",
      " 2   review_score             100000 non-null  int64 \n",
      " 3   review_comment_title     11715 non-null   object\n",
      " 4   review_comment_message   41753 non-null   object\n",
      " 5   review_creation_date     100000 non-null  object\n",
      " 6   review_answer_timestamp  100000 non-null  object\n",
      "dtypes: int64(1), object(6)\n",
      "memory usage: 5.3+ MB\n"
     ]
    }
   ],
   "source": [
    "df_order_reviews.info()"
   ]
  },
  {
   "cell_type": "code",
   "execution_count": 9,
   "metadata": {
    "ExecuteTime": {
     "end_time": "2020-07-22T14:57:36.489908Z",
     "start_time": "2020-07-22T14:57:36.446546Z"
    }
   },
   "outputs": [
    {
     "name": "stdout",
     "output_type": "stream",
     "text": [
      "<class 'pandas.core.frame.DataFrame'>\n",
      "RangeIndex: 99441 entries, 0 to 99440\n",
      "Data columns (total 8 columns):\n",
      " #   Column                         Non-Null Count  Dtype \n",
      "---  ------                         --------------  ----- \n",
      " 0   order_id                       99441 non-null  object\n",
      " 1   customer_id                    99441 non-null  object\n",
      " 2   order_status                   99441 non-null  object\n",
      " 3   order_purchase_timestamp       99441 non-null  object\n",
      " 4   order_approved_at              99281 non-null  object\n",
      " 5   order_delivered_carrier_date   97658 non-null  object\n",
      " 6   order_delivered_customer_date  96476 non-null  object\n",
      " 7   order_estimated_delivery_date  99441 non-null  object\n",
      "dtypes: object(8)\n",
      "memory usage: 6.1+ MB\n"
     ]
    }
   ],
   "source": [
    "df_orders.info()"
   ]
  },
  {
   "cell_type": "code",
   "execution_count": 10,
   "metadata": {
    "ExecuteTime": {
     "end_time": "2020-07-22T14:57:36.515800Z",
     "start_time": "2020-07-22T14:57:36.492894Z"
    }
   },
   "outputs": [
    {
     "name": "stdout",
     "output_type": "stream",
     "text": [
      "<class 'pandas.core.frame.DataFrame'>\n",
      "RangeIndex: 32951 entries, 0 to 32950\n",
      "Data columns (total 9 columns):\n",
      " #   Column                      Non-Null Count  Dtype  \n",
      "---  ------                      --------------  -----  \n",
      " 0   product_id                  32951 non-null  object \n",
      " 1   product_category_name       32341 non-null  object \n",
      " 2   product_name_lenght         32341 non-null  float64\n",
      " 3   product_description_lenght  32341 non-null  float64\n",
      " 4   product_photos_qty          32341 non-null  float64\n",
      " 5   product_weight_g            32949 non-null  float64\n",
      " 6   product_length_cm           32949 non-null  float64\n",
      " 7   product_height_cm           32949 non-null  float64\n",
      " 8   product_width_cm            32949 non-null  float64\n",
      "dtypes: float64(7), object(2)\n",
      "memory usage: 2.3+ MB\n"
     ]
    }
   ],
   "source": [
    "df_products.info()"
   ]
  },
  {
   "cell_type": "code",
   "execution_count": 11,
   "metadata": {
    "ExecuteTime": {
     "end_time": "2020-07-22T14:57:36.528745Z",
     "start_time": "2020-07-22T14:57:36.518787Z"
    }
   },
   "outputs": [
    {
     "name": "stdout",
     "output_type": "stream",
     "text": [
      "<class 'pandas.core.frame.DataFrame'>\n",
      "RangeIndex: 3095 entries, 0 to 3094\n",
      "Data columns (total 4 columns):\n",
      " #   Column                  Non-Null Count  Dtype \n",
      "---  ------                  --------------  ----- \n",
      " 0   seller_id               3095 non-null   object\n",
      " 1   seller_zip_code_prefix  3095 non-null   int64 \n",
      " 2   seller_city             3095 non-null   object\n",
      " 3   seller_state            3095 non-null   object\n",
      "dtypes: int64(1), object(3)\n",
      "memory usage: 96.8+ KB\n"
     ]
    }
   ],
   "source": [
    "df_sellers.info()"
   ]
  },
  {
   "cell_type": "code",
   "execution_count": 12,
   "metadata": {
    "ExecuteTime": {
     "end_time": "2020-07-22T14:57:36.542223Z",
     "start_time": "2020-07-22T14:57:36.530736Z"
    }
   },
   "outputs": [
    {
     "name": "stdout",
     "output_type": "stream",
     "text": [
      "<class 'pandas.core.frame.DataFrame'>\n",
      "RangeIndex: 71 entries, 0 to 70\n",
      "Data columns (total 2 columns):\n",
      " #   Column                         Non-Null Count  Dtype \n",
      "---  ------                         --------------  ----- \n",
      " 0   product_category_name          71 non-null     object\n",
      " 1   product_category_name_english  71 non-null     object\n",
      "dtypes: object(2)\n",
      "memory usage: 1.2+ KB\n"
     ]
    }
   ],
   "source": [
    "df_translation.info()"
   ]
  },
  {
   "cell_type": "markdown",
   "metadata": {},
   "source": [
    "Nous pouvons noter plusieurs choses :\n",
    "1. La table geolocation n'apporte rien de plus que la table *customers*\n",
    "2. Beaucoup de données redondantes\n",
    "3. Les tables contiennent très peu de données manquantes"
   ]
  },
  {
   "cell_type": "markdown",
   "metadata": {},
   "source": [
    "## Ingénierie des variables"
   ]
  },
  {
   "cell_type": "markdown",
   "metadata": {},
   "source": [
    "Bon nombre des variables ne sont pas exploitables en l'état, il va falloir les transformer avant de penser à les utiliser pour faire tourner des modèles de partionnement.\n",
    "\n",
    "De plus, ayant pour but de faire une segmentation des clients il va nous falloir regrouper les données par client. Dans la base de donnée, un client unique est assigné à chaque transaction. Ainsi, un client ayant effectué plusieurs transactions se verra attribuer plusieurs *customer_id*. C'est pourquoi nous avons aussi accès à la variable *customer_unique_id*. C'est cette dernière que nous utiliserons pour regrouper les données."
   ]
  },
  {
   "cell_type": "markdown",
   "metadata": {},
   "source": [
    "### Variables liées aux transactions"
   ]
  },
  {
   "cell_type": "markdown",
   "metadata": {},
   "source": [
    "Nous commencerons par traités les variables de transaction. Pour chaque client, nous calculerons les variables suivantes :\n",
    "- Nombre de transactions effectuées\n",
    "- Nombre d'articles du panier moyen\n",
    "- Prix du panier moyen\n",
    "- Frais de port du panier moyen\n",
    "- Taux de transaction ayant été finalisées"
   ]
  },
  {
   "cell_type": "code",
   "execution_count": 13,
   "metadata": {
    "ExecuteTime": {
     "end_time": "2020-07-22T14:58:16.516668Z",
     "start_time": "2020-07-22T14:57:36.544213Z"
    }
   },
   "outputs": [],
   "source": [
    "# Create a new dataframe with all required data\n",
    "df = pd.merge(df_orders, df_order_items, how=\"inner\",\n",
    "              on=\"order_id\", copy=True)\n",
    "df = df.merge(right=df_customers, how=\"inner\",\n",
    "                on=\"customer_id\", copy=False)\n",
    "\n",
    "values = [\"order_id\",\n",
    "          \"product_id\",\n",
    "          \"price\",\n",
    "          \"freight_value\",\n",
    "          \"order_status\"]\n",
    "aggfunc = {\"order_id\": pd.Series.nunique,\n",
    "           \"product_id\": \"count\",\n",
    "           \"price\": sum,\n",
    "           \"freight_value\": sum,\n",
    "           \"order_status\": lambda s: s[s==\"delivered\"].count()}\n",
    "\n",
    "pivot_orders = (pd.pivot_table(df, index=\"customer_unique_id\",\n",
    "                               values=values, aggfunc=aggfunc)\n",
    "                  .rename(columns={\"order_id\": \"n_orders\",\n",
    "                                   \"product_id\": \"order_n_products\",\n",
    "                                   \"price\": \"order_price\",\n",
    "                                   \"freight_value\": \"order_freight_value\",\n",
    "                                   \"order_status\": \"order_delivered\"})\n",
    "                  .assign(order_delivered=lambda df: df[df[\"order_n_products\"]>0][\"order_delivered\"]/\n",
    "                                                     df[df[\"order_n_products\"]>0][\"order_n_products\"],               \n",
    "                          order_n_products=lambda df: df[\"order_n_products\"]/df[\"n_orders\"],\n",
    "                          order_price=lambda df: df[\"order_price\"]/df[\"n_orders\"],\n",
    "                          order_freight_value= lambda df: df[\"order_freight_value\"]/df[\"n_orders\"]))"
   ]
  },
  {
   "cell_type": "code",
   "execution_count": 14,
   "metadata": {
    "ExecuteTime": {
     "end_time": "2020-07-22T14:58:16.576561Z",
     "start_time": "2020-07-22T14:58:16.518661Z"
    }
   },
   "outputs": [
    {
     "data": {
      "text/html": [
       "<div>\n",
       "<style scoped>\n",
       "    .dataframe tbody tr th:only-of-type {\n",
       "        vertical-align: middle;\n",
       "    }\n",
       "\n",
       "    .dataframe tbody tr th {\n",
       "        vertical-align: top;\n",
       "    }\n",
       "\n",
       "    .dataframe thead th {\n",
       "        text-align: right;\n",
       "    }\n",
       "</style>\n",
       "<table border=\"1\" class=\"dataframe\">\n",
       "  <thead>\n",
       "    <tr style=\"text-align: right;\">\n",
       "      <th></th>\n",
       "      <th>order_freight_value</th>\n",
       "      <th>n_orders</th>\n",
       "      <th>order_delivered</th>\n",
       "      <th>order_price</th>\n",
       "      <th>order_n_products</th>\n",
       "    </tr>\n",
       "  </thead>\n",
       "  <tbody>\n",
       "    <tr>\n",
       "      <th>count</th>\n",
       "      <td>95420.000000</td>\n",
       "      <td>95420.000000</td>\n",
       "      <td>95420.000000</td>\n",
       "      <td>95420.000000</td>\n",
       "      <td>95420.00000</td>\n",
       "    </tr>\n",
       "    <tr>\n",
       "      <th>mean</th>\n",
       "      <td>22.819050</td>\n",
       "      <td>1.034018</td>\n",
       "      <td>0.977804</td>\n",
       "      <td>138.225720</td>\n",
       "      <td>1.13910</td>\n",
       "    </tr>\n",
       "    <tr>\n",
       "      <th>std</th>\n",
       "      <td>21.560878</td>\n",
       "      <td>0.211234</td>\n",
       "      <td>0.146304</td>\n",
       "      <td>211.414089</td>\n",
       "      <td>0.52688</td>\n",
       "    </tr>\n",
       "    <tr>\n",
       "      <th>min</th>\n",
       "      <td>0.000000</td>\n",
       "      <td>1.000000</td>\n",
       "      <td>0.000000</td>\n",
       "      <td>0.850000</td>\n",
       "      <td>1.00000</td>\n",
       "    </tr>\n",
       "    <tr>\n",
       "      <th>25%</th>\n",
       "      <td>13.890000</td>\n",
       "      <td>1.000000</td>\n",
       "      <td>1.000000</td>\n",
       "      <td>46.400000</td>\n",
       "      <td>1.00000</td>\n",
       "    </tr>\n",
       "    <tr>\n",
       "      <th>50%</th>\n",
       "      <td>17.240000</td>\n",
       "      <td>1.000000</td>\n",
       "      <td>1.000000</td>\n",
       "      <td>87.382500</td>\n",
       "      <td>1.00000</td>\n",
       "    </tr>\n",
       "    <tr>\n",
       "      <th>75%</th>\n",
       "      <td>24.130000</td>\n",
       "      <td>1.000000</td>\n",
       "      <td>1.000000</td>\n",
       "      <td>149.900000</td>\n",
       "      <td>1.00000</td>\n",
       "    </tr>\n",
       "    <tr>\n",
       "      <th>max</th>\n",
       "      <td>1794.960000</td>\n",
       "      <td>16.000000</td>\n",
       "      <td>1.000000</td>\n",
       "      <td>13440.000000</td>\n",
       "      <td>21.00000</td>\n",
       "    </tr>\n",
       "  </tbody>\n",
       "</table>\n",
       "</div>"
      ],
      "text/plain": [
       "       order_freight_value      n_orders  order_delivered   order_price  \\\n",
       "count         95420.000000  95420.000000     95420.000000  95420.000000   \n",
       "mean             22.819050      1.034018         0.977804    138.225720   \n",
       "std              21.560878      0.211234         0.146304    211.414089   \n",
       "min               0.000000      1.000000         0.000000      0.850000   \n",
       "25%              13.890000      1.000000         1.000000     46.400000   \n",
       "50%              17.240000      1.000000         1.000000     87.382500   \n",
       "75%              24.130000      1.000000         1.000000    149.900000   \n",
       "max            1794.960000     16.000000         1.000000  13440.000000   \n",
       "\n",
       "       order_n_products  \n",
       "count       95420.00000  \n",
       "mean            1.13910  \n",
       "std             0.52688  \n",
       "min             1.00000  \n",
       "25%             1.00000  \n",
       "50%             1.00000  \n",
       "75%             1.00000  \n",
       "max            21.00000  "
      ]
     },
     "execution_count": 14,
     "metadata": {},
     "output_type": "execute_result"
    }
   ],
   "source": [
    "pivot_orders.describe()"
   ]
  },
  {
   "cell_type": "markdown",
   "metadata": {},
   "source": [
    "### Variables liées aux produits"
   ]
  },
  {
   "cell_type": "markdown",
   "metadata": {},
   "source": [
    "Nous traiterons ensuite les variables liées aux produits. Pour chaque client, nous calculerons les variables suivantes :\n",
    "- prix moyen par produit\n",
    "- nombre moyen de photos par produit\n",
    "- longeur moyenne de description par produit\n",
    "- frais de port moyens par produit"
   ]
  },
  {
   "cell_type": "code",
   "execution_count": 15,
   "metadata": {
    "ExecuteTime": {
     "end_time": "2020-07-22T14:58:17.262606Z",
     "start_time": "2020-07-22T14:58:16.578552Z"
    }
   },
   "outputs": [],
   "source": [
    "# Add products data\n",
    "df = df.merge(right=df_products, how=\"inner\",\n",
    "                  on=\"product_id\", copy=False)\n",
    "\n",
    "values = [\"price\",\n",
    "          \"product_photos_qty\",\n",
    "          \"product_description_lenght\",\n",
    "          \"freight_value\"]\n",
    "aggfunc = {\"price\": 'mean',\n",
    "           \"product_photos_qty\": 'mean',\n",
    "           \"product_description_lenght\": 'mean',\n",
    "           \"freight_value\": 'mean'}\n",
    "\n",
    "pivot_products = pd.pivot_table(df, index=\"customer_unique_id\",\n",
    "                                values=values, aggfunc=aggfunc)"
   ]
  },
  {
   "cell_type": "code",
   "execution_count": 16,
   "metadata": {
    "ExecuteTime": {
     "end_time": "2020-07-22T14:58:17.312926Z",
     "start_time": "2020-07-22T14:58:17.265595Z"
    }
   },
   "outputs": [
    {
     "data": {
      "text/html": [
       "<div>\n",
       "<style scoped>\n",
       "    .dataframe tbody tr th:only-of-type {\n",
       "        vertical-align: middle;\n",
       "    }\n",
       "\n",
       "    .dataframe tbody tr th {\n",
       "        vertical-align: top;\n",
       "    }\n",
       "\n",
       "    .dataframe thead th {\n",
       "        text-align: right;\n",
       "    }\n",
       "</style>\n",
       "<table border=\"1\" class=\"dataframe\">\n",
       "  <thead>\n",
       "    <tr style=\"text-align: right;\">\n",
       "      <th></th>\n",
       "      <th>freight_value</th>\n",
       "      <th>price</th>\n",
       "      <th>product_description_lenght</th>\n",
       "      <th>product_photos_qty</th>\n",
       "    </tr>\n",
       "  </thead>\n",
       "  <tbody>\n",
       "    <tr>\n",
       "      <th>count</th>\n",
       "      <td>95420.000000</td>\n",
       "      <td>95420.000000</td>\n",
       "      <td>94108.000000</td>\n",
       "      <td>94108.000000</td>\n",
       "    </tr>\n",
       "    <tr>\n",
       "      <th>mean</th>\n",
       "      <td>20.226742</td>\n",
       "      <td>126.516509</td>\n",
       "      <td>795.837564</td>\n",
       "      <td>2.255114</td>\n",
       "    </tr>\n",
       "    <tr>\n",
       "      <th>std</th>\n",
       "      <td>15.821514</td>\n",
       "      <td>191.743686</td>\n",
       "      <td>650.586308</td>\n",
       "      <td>1.735351</td>\n",
       "    </tr>\n",
       "    <tr>\n",
       "      <th>min</th>\n",
       "      <td>0.000000</td>\n",
       "      <td>0.850000</td>\n",
       "      <td>4.000000</td>\n",
       "      <td>1.000000</td>\n",
       "    </tr>\n",
       "    <tr>\n",
       "      <th>25%</th>\n",
       "      <td>13.370000</td>\n",
       "      <td>42.900000</td>\n",
       "      <td>354.000000</td>\n",
       "      <td>1.000000</td>\n",
       "    </tr>\n",
       "    <tr>\n",
       "      <th>50%</th>\n",
       "      <td>16.400000</td>\n",
       "      <td>79.080000</td>\n",
       "      <td>611.500000</td>\n",
       "      <td>2.000000</td>\n",
       "    </tr>\n",
       "    <tr>\n",
       "      <th>75%</th>\n",
       "      <td>21.220000</td>\n",
       "      <td>139.900000</td>\n",
       "      <td>998.000000</td>\n",
       "      <td>3.000000</td>\n",
       "    </tr>\n",
       "    <tr>\n",
       "      <th>max</th>\n",
       "      <td>409.680000</td>\n",
       "      <td>6735.000000</td>\n",
       "      <td>3992.000000</td>\n",
       "      <td>20.000000</td>\n",
       "    </tr>\n",
       "  </tbody>\n",
       "</table>\n",
       "</div>"
      ],
      "text/plain": [
       "       freight_value         price  product_description_lenght  \\\n",
       "count   95420.000000  95420.000000                94108.000000   \n",
       "mean       20.226742    126.516509                  795.837564   \n",
       "std        15.821514    191.743686                  650.586308   \n",
       "min         0.000000      0.850000                    4.000000   \n",
       "25%        13.370000     42.900000                  354.000000   \n",
       "50%        16.400000     79.080000                  611.500000   \n",
       "75%        21.220000    139.900000                  998.000000   \n",
       "max       409.680000   6735.000000                 3992.000000   \n",
       "\n",
       "       product_photos_qty  \n",
       "count        94108.000000  \n",
       "mean             2.255114  \n",
       "std              1.735351  \n",
       "min              1.000000  \n",
       "25%              1.000000  \n",
       "50%              2.000000  \n",
       "75%              3.000000  \n",
       "max             20.000000  "
      ]
     },
     "execution_count": 16,
     "metadata": {},
     "output_type": "execute_result"
    }
   ],
   "source": [
    "pivot_products.describe()"
   ]
  },
  {
   "cell_type": "markdown",
   "metadata": {},
   "source": [
    "### Catégories des produits"
   ]
  },
  {
   "cell_type": "markdown",
   "metadata": {},
   "source": [
    "Nous allons maintenant créer une variable par catégorie de produit. Nous prendrons les catégories traduites en anglais, plus parlantes que les catégories en portugais. Pour chaque catégorie, nous renseignerons la propotion de produits de cette catégorie acheté par chaque client."
   ]
  },
  {
   "cell_type": "code",
   "execution_count": 17,
   "metadata": {
    "ExecuteTime": {
     "end_time": "2020-07-22T14:58:21.179621Z",
     "start_time": "2020-07-22T14:58:17.313922Z"
    }
   },
   "outputs": [],
   "source": [
    "# Add the English translation of the product category\n",
    "df = df.merge(right=df_translation, how=\"inner\",\n",
    "              on=\"product_category_name\", copy=False)\n",
    "\n",
    "# Create a feature by category\n",
    "list_products_cat = df[\"product_category_name_english\"].unique().tolist()\n",
    "aggfunc = {\"product_id\": 'count'}\n",
    "for c in list_products_cat:\n",
    "    cond = df[\"product_category_name_english\"]==c\n",
    "    df[c] = 1\n",
    "    df[c] = df[c].where(cond, 0)\n",
    "    aggfunc[c] = sum\n",
    "\n",
    "# Create the pivot table\n",
    "values = [\"product_id\"] + list_products_cat\n",
    "pivot_cat = pd.pivot_table(df, index=\"customer_unique_id\",\n",
    "                           values=values, aggfunc=aggfunc)\n",
    "# Calculate the proportions\n",
    "for c in list_products_cat:\n",
    "    pivot_cat[c] /= pivot_cat[\"product_id\"]\n",
    "pivot_cat = pivot_cat.drop(columns=[\"product_id\"])"
   ]
  },
  {
   "cell_type": "code",
   "execution_count": 18,
   "metadata": {
    "ExecuteTime": {
     "end_time": "2020-07-22T14:58:21.643634Z",
     "start_time": "2020-07-22T14:58:21.184679Z"
    }
   },
   "outputs": [
    {
     "data": {
      "text/html": [
       "<div>\n",
       "<style scoped>\n",
       "    .dataframe tbody tr th:only-of-type {\n",
       "        vertical-align: middle;\n",
       "    }\n",
       "\n",
       "    .dataframe tbody tr th {\n",
       "        vertical-align: top;\n",
       "    }\n",
       "\n",
       "    .dataframe thead th {\n",
       "        text-align: right;\n",
       "    }\n",
       "</style>\n",
       "<table border=\"1\" class=\"dataframe\">\n",
       "  <thead>\n",
       "    <tr style=\"text-align: right;\">\n",
       "      <th></th>\n",
       "      <th>agro_industry_and_commerce</th>\n",
       "      <th>air_conditioning</th>\n",
       "      <th>art</th>\n",
       "      <th>arts_and_craftmanship</th>\n",
       "      <th>audio</th>\n",
       "      <th>auto</th>\n",
       "      <th>baby</th>\n",
       "      <th>bed_bath_table</th>\n",
       "      <th>books_general_interest</th>\n",
       "      <th>books_imported</th>\n",
       "      <th>...</th>\n",
       "      <th>security_and_services</th>\n",
       "      <th>signaling_and_security</th>\n",
       "      <th>small_appliances</th>\n",
       "      <th>small_appliances_home_oven_and_coffee</th>\n",
       "      <th>sports_leisure</th>\n",
       "      <th>stationery</th>\n",
       "      <th>tablets_printing_image</th>\n",
       "      <th>telephony</th>\n",
       "      <th>toys</th>\n",
       "      <th>watches_gifts</th>\n",
       "    </tr>\n",
       "  </thead>\n",
       "  <tbody>\n",
       "    <tr>\n",
       "      <th>count</th>\n",
       "      <td>94088.00000</td>\n",
       "      <td>94088.000000</td>\n",
       "      <td>94088.000000</td>\n",
       "      <td>94088.000000</td>\n",
       "      <td>94088.000000</td>\n",
       "      <td>94088.000000</td>\n",
       "      <td>94088.000000</td>\n",
       "      <td>94088.000000</td>\n",
       "      <td>94088.000000</td>\n",
       "      <td>94088.000000</td>\n",
       "      <td>...</td>\n",
       "      <td>94088.000000</td>\n",
       "      <td>94088.000000</td>\n",
       "      <td>94088.000000</td>\n",
       "      <td>94088.000000</td>\n",
       "      <td>94088.000000</td>\n",
       "      <td>94088.000000</td>\n",
       "      <td>94088.000000</td>\n",
       "      <td>94088.000000</td>\n",
       "      <td>94088.000000</td>\n",
       "      <td>94088.000000</td>\n",
       "    </tr>\n",
       "    <tr>\n",
       "      <th>mean</th>\n",
       "      <td>0.00190</td>\n",
       "      <td>0.002562</td>\n",
       "      <td>0.002072</td>\n",
       "      <td>0.000203</td>\n",
       "      <td>0.003600</td>\n",
       "      <td>0.040234</td>\n",
       "      <td>0.029403</td>\n",
       "      <td>0.094342</td>\n",
       "      <td>0.005308</td>\n",
       "      <td>0.000547</td>\n",
       "      <td>...</td>\n",
       "      <td>0.000021</td>\n",
       "      <td>0.001450</td>\n",
       "      <td>0.006523</td>\n",
       "      <td>0.000792</td>\n",
       "      <td>0.078312</td>\n",
       "      <td>0.023846</td>\n",
       "      <td>0.000795</td>\n",
       "      <td>0.043443</td>\n",
       "      <td>0.039913</td>\n",
       "      <td>0.057960</td>\n",
       "    </tr>\n",
       "    <tr>\n",
       "      <th>std</th>\n",
       "      <td>0.04345</td>\n",
       "      <td>0.050066</td>\n",
       "      <td>0.045101</td>\n",
       "      <td>0.014029</td>\n",
       "      <td>0.059483</td>\n",
       "      <td>0.195708</td>\n",
       "      <td>0.167624</td>\n",
       "      <td>0.289972</td>\n",
       "      <td>0.072413</td>\n",
       "      <td>0.023333</td>\n",
       "      <td>...</td>\n",
       "      <td>0.004610</td>\n",
       "      <td>0.037893</td>\n",
       "      <td>0.080106</td>\n",
       "      <td>0.028081</td>\n",
       "      <td>0.267310</td>\n",
       "      <td>0.151737</td>\n",
       "      <td>0.027902</td>\n",
       "      <td>0.203065</td>\n",
       "      <td>0.194622</td>\n",
       "      <td>0.232698</td>\n",
       "    </tr>\n",
       "    <tr>\n",
       "      <th>min</th>\n",
       "      <td>0.00000</td>\n",
       "      <td>0.000000</td>\n",
       "      <td>0.000000</td>\n",
       "      <td>0.000000</td>\n",
       "      <td>0.000000</td>\n",
       "      <td>0.000000</td>\n",
       "      <td>0.000000</td>\n",
       "      <td>0.000000</td>\n",
       "      <td>0.000000</td>\n",
       "      <td>0.000000</td>\n",
       "      <td>...</td>\n",
       "      <td>0.000000</td>\n",
       "      <td>0.000000</td>\n",
       "      <td>0.000000</td>\n",
       "      <td>0.000000</td>\n",
       "      <td>0.000000</td>\n",
       "      <td>0.000000</td>\n",
       "      <td>0.000000</td>\n",
       "      <td>0.000000</td>\n",
       "      <td>0.000000</td>\n",
       "      <td>0.000000</td>\n",
       "    </tr>\n",
       "    <tr>\n",
       "      <th>25%</th>\n",
       "      <td>0.00000</td>\n",
       "      <td>0.000000</td>\n",
       "      <td>0.000000</td>\n",
       "      <td>0.000000</td>\n",
       "      <td>0.000000</td>\n",
       "      <td>0.000000</td>\n",
       "      <td>0.000000</td>\n",
       "      <td>0.000000</td>\n",
       "      <td>0.000000</td>\n",
       "      <td>0.000000</td>\n",
       "      <td>...</td>\n",
       "      <td>0.000000</td>\n",
       "      <td>0.000000</td>\n",
       "      <td>0.000000</td>\n",
       "      <td>0.000000</td>\n",
       "      <td>0.000000</td>\n",
       "      <td>0.000000</td>\n",
       "      <td>0.000000</td>\n",
       "      <td>0.000000</td>\n",
       "      <td>0.000000</td>\n",
       "      <td>0.000000</td>\n",
       "    </tr>\n",
       "    <tr>\n",
       "      <th>50%</th>\n",
       "      <td>0.00000</td>\n",
       "      <td>0.000000</td>\n",
       "      <td>0.000000</td>\n",
       "      <td>0.000000</td>\n",
       "      <td>0.000000</td>\n",
       "      <td>0.000000</td>\n",
       "      <td>0.000000</td>\n",
       "      <td>0.000000</td>\n",
       "      <td>0.000000</td>\n",
       "      <td>0.000000</td>\n",
       "      <td>...</td>\n",
       "      <td>0.000000</td>\n",
       "      <td>0.000000</td>\n",
       "      <td>0.000000</td>\n",
       "      <td>0.000000</td>\n",
       "      <td>0.000000</td>\n",
       "      <td>0.000000</td>\n",
       "      <td>0.000000</td>\n",
       "      <td>0.000000</td>\n",
       "      <td>0.000000</td>\n",
       "      <td>0.000000</td>\n",
       "    </tr>\n",
       "    <tr>\n",
       "      <th>75%</th>\n",
       "      <td>0.00000</td>\n",
       "      <td>0.000000</td>\n",
       "      <td>0.000000</td>\n",
       "      <td>0.000000</td>\n",
       "      <td>0.000000</td>\n",
       "      <td>0.000000</td>\n",
       "      <td>0.000000</td>\n",
       "      <td>0.000000</td>\n",
       "      <td>0.000000</td>\n",
       "      <td>0.000000</td>\n",
       "      <td>...</td>\n",
       "      <td>0.000000</td>\n",
       "      <td>0.000000</td>\n",
       "      <td>0.000000</td>\n",
       "      <td>0.000000</td>\n",
       "      <td>0.000000</td>\n",
       "      <td>0.000000</td>\n",
       "      <td>0.000000</td>\n",
       "      <td>0.000000</td>\n",
       "      <td>0.000000</td>\n",
       "      <td>0.000000</td>\n",
       "    </tr>\n",
       "    <tr>\n",
       "      <th>max</th>\n",
       "      <td>1.00000</td>\n",
       "      <td>1.000000</td>\n",
       "      <td>1.000000</td>\n",
       "      <td>1.000000</td>\n",
       "      <td>1.000000</td>\n",
       "      <td>1.000000</td>\n",
       "      <td>1.000000</td>\n",
       "      <td>1.000000</td>\n",
       "      <td>1.000000</td>\n",
       "      <td>1.000000</td>\n",
       "      <td>...</td>\n",
       "      <td>1.000000</td>\n",
       "      <td>1.000000</td>\n",
       "      <td>1.000000</td>\n",
       "      <td>1.000000</td>\n",
       "      <td>1.000000</td>\n",
       "      <td>1.000000</td>\n",
       "      <td>1.000000</td>\n",
       "      <td>1.000000</td>\n",
       "      <td>1.000000</td>\n",
       "      <td>1.000000</td>\n",
       "    </tr>\n",
       "  </tbody>\n",
       "</table>\n",
       "<p>8 rows × 71 columns</p>\n",
       "</div>"
      ],
      "text/plain": [
       "       agro_industry_and_commerce  air_conditioning           art  \\\n",
       "count                 94088.00000      94088.000000  94088.000000   \n",
       "mean                      0.00190          0.002562      0.002072   \n",
       "std                       0.04345          0.050066      0.045101   \n",
       "min                       0.00000          0.000000      0.000000   \n",
       "25%                       0.00000          0.000000      0.000000   \n",
       "50%                       0.00000          0.000000      0.000000   \n",
       "75%                       0.00000          0.000000      0.000000   \n",
       "max                       1.00000          1.000000      1.000000   \n",
       "\n",
       "       arts_and_craftmanship         audio          auto          baby  \\\n",
       "count           94088.000000  94088.000000  94088.000000  94088.000000   \n",
       "mean                0.000203      0.003600      0.040234      0.029403   \n",
       "std                 0.014029      0.059483      0.195708      0.167624   \n",
       "min                 0.000000      0.000000      0.000000      0.000000   \n",
       "25%                 0.000000      0.000000      0.000000      0.000000   \n",
       "50%                 0.000000      0.000000      0.000000      0.000000   \n",
       "75%                 0.000000      0.000000      0.000000      0.000000   \n",
       "max                 1.000000      1.000000      1.000000      1.000000   \n",
       "\n",
       "       bed_bath_table  books_general_interest  books_imported  ...  \\\n",
       "count    94088.000000            94088.000000    94088.000000  ...   \n",
       "mean         0.094342                0.005308        0.000547  ...   \n",
       "std          0.289972                0.072413        0.023333  ...   \n",
       "min          0.000000                0.000000        0.000000  ...   \n",
       "25%          0.000000                0.000000        0.000000  ...   \n",
       "50%          0.000000                0.000000        0.000000  ...   \n",
       "75%          0.000000                0.000000        0.000000  ...   \n",
       "max          1.000000                1.000000        1.000000  ...   \n",
       "\n",
       "       security_and_services  signaling_and_security  small_appliances  \\\n",
       "count           94088.000000            94088.000000      94088.000000   \n",
       "mean                0.000021                0.001450          0.006523   \n",
       "std                 0.004610                0.037893          0.080106   \n",
       "min                 0.000000                0.000000          0.000000   \n",
       "25%                 0.000000                0.000000          0.000000   \n",
       "50%                 0.000000                0.000000          0.000000   \n",
       "75%                 0.000000                0.000000          0.000000   \n",
       "max                 1.000000                1.000000          1.000000   \n",
       "\n",
       "       small_appliances_home_oven_and_coffee  sports_leisure    stationery  \\\n",
       "count                           94088.000000    94088.000000  94088.000000   \n",
       "mean                                0.000792        0.078312      0.023846   \n",
       "std                                 0.028081        0.267310      0.151737   \n",
       "min                                 0.000000        0.000000      0.000000   \n",
       "25%                                 0.000000        0.000000      0.000000   \n",
       "50%                                 0.000000        0.000000      0.000000   \n",
       "75%                                 0.000000        0.000000      0.000000   \n",
       "max                                 1.000000        1.000000      1.000000   \n",
       "\n",
       "       tablets_printing_image     telephony          toys  watches_gifts  \n",
       "count            94088.000000  94088.000000  94088.000000   94088.000000  \n",
       "mean                 0.000795      0.043443      0.039913       0.057960  \n",
       "std                  0.027902      0.203065      0.194622       0.232698  \n",
       "min                  0.000000      0.000000      0.000000       0.000000  \n",
       "25%                  0.000000      0.000000      0.000000       0.000000  \n",
       "50%                  0.000000      0.000000      0.000000       0.000000  \n",
       "75%                  0.000000      0.000000      0.000000       0.000000  \n",
       "max                  1.000000      1.000000      1.000000       1.000000  \n",
       "\n",
       "[8 rows x 71 columns]"
      ]
     },
     "execution_count": 18,
     "metadata": {},
     "output_type": "execute_result"
    }
   ],
   "source": [
    "pivot_cat.describe()"
   ]
  },
  {
   "cell_type": "markdown",
   "metadata": {},
   "source": [
    "### Variables liées aux commentaires"
   ]
  },
  {
   "cell_type": "markdown",
   "metadata": {},
   "source": [
    "Nous traiterons maintenant les variables liées aux commentaires. Pour chaque client, nous calculerons les variables suivantes :\n",
    "- nombre moyens de commentaires par transactions\n",
    "- score moyen\n",
    "- temps de réponse moyen"
   ]
  },
  {
   "cell_type": "code",
   "execution_count": 19,
   "metadata": {
    "ExecuteTime": {
     "end_time": "2020-07-22T14:58:28.506622Z",
     "start_time": "2020-07-22T14:58:21.644630Z"
    }
   },
   "outputs": [],
   "source": [
    "# Create a new dataframe with all required data\n",
    "df = pd.merge(df_orders, df_order_reviews, how=\"inner\",\n",
    "              on=\"order_id\", copy=True)\n",
    "df = df.merge(right=df_customers, how=\"inner\",\n",
    "              on=\"customer_id\", copy=False)\n",
    "# Convert date features into 'datetime' type\n",
    "df[\"review_creation_date\"] = pd.to_datetime(df[\"review_creation_date\"])\n",
    "df[\"review_answer_timestamp\"] = pd.to_datetime(df[\"review_answer_timestamp\"])\n",
    "# Calculate the time to answer in days\n",
    "df[\"review_answer_timedelta\"] = df[\"review_answer_timestamp\"] - df[\"review_creation_date\"]\n",
    "df[\"review_answer_timedelta\"] /= pd.to_timedelta(1, unit=\"D\")\n",
    "\n",
    "values = [\"order_id\",\n",
    "          \"review_id\",\n",
    "          \"review_score\",\n",
    "          \"review_answer_timedelta\"]\n",
    "aggfunc = {\"order_id\": pd.Series.nunique,\n",
    "           \"review_id\": 'count',\n",
    "           \"review_score\": 'mean',\n",
    "           \"review_answer_timedelta\": 'mean'}\n",
    "\n",
    "pivot_reviews = (pd.pivot_table(df, index=\"customer_unique_id\",\n",
    "                               values=values, aggfunc=aggfunc)\n",
    "                  .rename(columns={\"order_id\": \"n_orders\",\n",
    "                                   \"review_id\": \"order_n_reviews\"})\n",
    "                  .assign(order_n_reviews=lambda df: df[\"order_n_reviews\"]/df[\"n_orders\"])\n",
    "                  .drop(columns=[\"n_orders\"]))"
   ]
  },
  {
   "cell_type": "code",
   "execution_count": 20,
   "metadata": {
    "ExecuteTime": {
     "end_time": "2020-07-22T14:58:28.558536Z",
     "start_time": "2020-07-22T14:58:28.511601Z"
    }
   },
   "outputs": [
    {
     "data": {
      "text/html": [
       "<div>\n",
       "<style scoped>\n",
       "    .dataframe tbody tr th:only-of-type {\n",
       "        vertical-align: middle;\n",
       "    }\n",
       "\n",
       "    .dataframe tbody tr th {\n",
       "        vertical-align: top;\n",
       "    }\n",
       "\n",
       "    .dataframe thead th {\n",
       "        text-align: right;\n",
       "    }\n",
       "</style>\n",
       "<table border=\"1\" class=\"dataframe\">\n",
       "  <thead>\n",
       "    <tr style=\"text-align: right;\">\n",
       "      <th></th>\n",
       "      <th>review_answer_timedelta</th>\n",
       "      <th>order_n_reviews</th>\n",
       "      <th>review_score</th>\n",
       "    </tr>\n",
       "  </thead>\n",
       "  <tbody>\n",
       "    <tr>\n",
       "      <th>count</th>\n",
       "      <td>96096.000000</td>\n",
       "      <td>96096.000000</td>\n",
       "      <td>96096.000000</td>\n",
       "    </tr>\n",
       "    <tr>\n",
       "      <th>mean</th>\n",
       "      <td>3.154216</td>\n",
       "      <td>1.003200</td>\n",
       "      <td>4.069535</td>\n",
       "    </tr>\n",
       "    <tr>\n",
       "      <th>std</th>\n",
       "      <td>9.824978</td>\n",
       "      <td>0.049501</td>\n",
       "      <td>1.353446</td>\n",
       "    </tr>\n",
       "    <tr>\n",
       "      <th>min</th>\n",
       "      <td>0.089225</td>\n",
       "      <td>1.000000</td>\n",
       "      <td>1.000000</td>\n",
       "    </tr>\n",
       "    <tr>\n",
       "      <th>25%</th>\n",
       "      <td>1.007701</td>\n",
       "      <td>1.000000</td>\n",
       "      <td>4.000000</td>\n",
       "    </tr>\n",
       "    <tr>\n",
       "      <th>50%</th>\n",
       "      <td>1.690735</td>\n",
       "      <td>1.000000</td>\n",
       "      <td>5.000000</td>\n",
       "    </tr>\n",
       "    <tr>\n",
       "      <th>75%</th>\n",
       "      <td>3.103235</td>\n",
       "      <td>1.000000</td>\n",
       "      <td>5.000000</td>\n",
       "    </tr>\n",
       "    <tr>\n",
       "      <th>max</th>\n",
       "      <td>518.699213</td>\n",
       "      <td>2.000000</td>\n",
       "      <td>5.000000</td>\n",
       "    </tr>\n",
       "  </tbody>\n",
       "</table>\n",
       "</div>"
      ],
      "text/plain": [
       "       review_answer_timedelta  order_n_reviews  review_score\n",
       "count             96096.000000     96096.000000  96096.000000\n",
       "mean                  3.154216         1.003200      4.069535\n",
       "std                   9.824978         0.049501      1.353446\n",
       "min                   0.089225         1.000000      1.000000\n",
       "25%                   1.007701         1.000000      4.000000\n",
       "50%                   1.690735         1.000000      5.000000\n",
       "75%                   3.103235         1.000000      5.000000\n",
       "max                 518.699213         2.000000      5.000000"
      ]
     },
     "execution_count": 20,
     "metadata": {},
     "output_type": "execute_result"
    }
   ],
   "source": [
    "pivot_reviews.describe()"
   ]
  },
  {
   "cell_type": "markdown",
   "metadata": {},
   "source": [
    "### Moyens de paiement"
   ]
  },
  {
   "cell_type": "markdown",
   "metadata": {},
   "source": [
    "Il pourrait être utile de voir le moyen de paiement privilégié par chaque client. Pour cela nous allons créer une variable par moyen de paiement possible, et nous renseignerons la proportion du montant total payé par ce moyen de paiement."
   ]
  },
  {
   "cell_type": "code",
   "execution_count": 21,
   "metadata": {
    "ExecuteTime": {
     "end_time": "2020-07-22T14:58:29.209594Z",
     "start_time": "2020-07-22T14:58:28.560529Z"
    }
   },
   "outputs": [],
   "source": [
    "# Create a new dataframe with all required data\n",
    "df = pd.merge(df_orders, df_order_payments, how=\"inner\",\n",
    "              on=\"order_id\", copy=True)\n",
    "df = df.merge(right=df_customers, how=\"inner\",\n",
    "              on=\"customer_id\", copy=False)\n",
    "\n",
    "# Create a feature by type of payment\n",
    "list_payment_type = df[\"payment_type\"].unique().tolist()\n",
    "aggfunc = {\"payment_value\": sum}\n",
    "for c in list_payment_type:\n",
    "    cond = df[\"payment_type\"]==c\n",
    "    df[c] = df[\"payment_value\"]\n",
    "    df[c] = df[c].where(cond, 0)\n",
    "    aggfunc[c] = sum\n",
    "\n",
    "# Create the pivot table\n",
    "values = [\"payment_value\"] + list_payment_type\n",
    "pivot_payment = pd.pivot_table(df, index=\"customer_unique_id\",\n",
    "                           values=values, aggfunc=aggfunc)\n",
    "# Calculate the proportions\n",
    "for c in list_payment_type:\n",
    "    pivot_payment[c] /= pivot_payment[\"payment_value\"]\n",
    "pivot_payment = pivot_payment.drop(columns=[\"payment_value\", \"not_defined\"])"
   ]
  },
  {
   "cell_type": "code",
   "execution_count": 22,
   "metadata": {
    "ExecuteTime": {
     "end_time": "2020-07-22T14:58:29.268474Z",
     "start_time": "2020-07-22T14:58:29.214583Z"
    }
   },
   "outputs": [
    {
     "data": {
      "text/html": [
       "<div>\n",
       "<style scoped>\n",
       "    .dataframe tbody tr th:only-of-type {\n",
       "        vertical-align: middle;\n",
       "    }\n",
       "\n",
       "    .dataframe tbody tr th {\n",
       "        vertical-align: top;\n",
       "    }\n",
       "\n",
       "    .dataframe thead th {\n",
       "        text-align: right;\n",
       "    }\n",
       "</style>\n",
       "<table border=\"1\" class=\"dataframe\">\n",
       "  <thead>\n",
       "    <tr style=\"text-align: right;\">\n",
       "      <th></th>\n",
       "      <th>boleto</th>\n",
       "      <th>credit_card</th>\n",
       "      <th>debit_card</th>\n",
       "      <th>voucher</th>\n",
       "    </tr>\n",
       "  </thead>\n",
       "  <tbody>\n",
       "    <tr>\n",
       "      <th>count</th>\n",
       "      <td>96093.000000</td>\n",
       "      <td>96093.000000</td>\n",
       "      <td>96093.000000</td>\n",
       "      <td>96093.000000</td>\n",
       "    </tr>\n",
       "    <tr>\n",
       "      <th>mean</th>\n",
       "      <td>0.199304</td>\n",
       "      <td>0.755017</td>\n",
       "      <td>0.015474</td>\n",
       "      <td>0.030205</td>\n",
       "    </tr>\n",
       "    <tr>\n",
       "      <th>std</th>\n",
       "      <td>0.398744</td>\n",
       "      <td>0.425220</td>\n",
       "      <td>0.122984</td>\n",
       "      <td>0.159874</td>\n",
       "    </tr>\n",
       "    <tr>\n",
       "      <th>min</th>\n",
       "      <td>0.000000</td>\n",
       "      <td>0.000000</td>\n",
       "      <td>0.000000</td>\n",
       "      <td>0.000000</td>\n",
       "    </tr>\n",
       "    <tr>\n",
       "      <th>25%</th>\n",
       "      <td>0.000000</td>\n",
       "      <td>0.671760</td>\n",
       "      <td>0.000000</td>\n",
       "      <td>0.000000</td>\n",
       "    </tr>\n",
       "    <tr>\n",
       "      <th>50%</th>\n",
       "      <td>0.000000</td>\n",
       "      <td>1.000000</td>\n",
       "      <td>0.000000</td>\n",
       "      <td>0.000000</td>\n",
       "    </tr>\n",
       "    <tr>\n",
       "      <th>75%</th>\n",
       "      <td>0.000000</td>\n",
       "      <td>1.000000</td>\n",
       "      <td>0.000000</td>\n",
       "      <td>0.000000</td>\n",
       "    </tr>\n",
       "    <tr>\n",
       "      <th>max</th>\n",
       "      <td>1.000000</td>\n",
       "      <td>1.000000</td>\n",
       "      <td>1.000000</td>\n",
       "      <td>1.000000</td>\n",
       "    </tr>\n",
       "  </tbody>\n",
       "</table>\n",
       "</div>"
      ],
      "text/plain": [
       "             boleto   credit_card    debit_card       voucher\n",
       "count  96093.000000  96093.000000  96093.000000  96093.000000\n",
       "mean       0.199304      0.755017      0.015474      0.030205\n",
       "std        0.398744      0.425220      0.122984      0.159874\n",
       "min        0.000000      0.000000      0.000000      0.000000\n",
       "25%        0.000000      0.671760      0.000000      0.000000\n",
       "50%        0.000000      1.000000      0.000000      0.000000\n",
       "75%        0.000000      1.000000      0.000000      0.000000\n",
       "max        1.000000      1.000000      1.000000      1.000000"
      ]
     },
     "execution_count": 22,
     "metadata": {},
     "output_type": "execute_result"
    }
   ],
   "source": [
    "pivot_payment.describe()"
   ]
  },
  {
   "cell_type": "markdown",
   "metadata": {},
   "source": [
    "### États"
   ]
  },
  {
   "cell_type": "markdown",
   "metadata": {},
   "source": [
    "Les dernière variables que nous allons créer sont les état ou vivent les clients. Il y aura une variable par état possible, avec pour valeur :\n",
    "- **1** si le client y vit\n",
    "- **0** sinon.\n",
    "\n",
    "C'est ce qu'on appelle un **one hot encoding**. Pour cela, nous utiliserons la classe `OneHotEncoder` de *sklearn.preprocessing*."
   ]
  },
  {
   "cell_type": "code",
   "execution_count": 28,
   "metadata": {
    "ExecuteTime": {
     "end_time": "2020-07-22T15:25:34.608244Z",
     "start_time": "2020-07-22T15:24:06.172667Z"
    }
   },
   "outputs": [],
   "source": [
    "from sklearn.preprocessing import OneHotEncoder\n",
    "\n",
    "# Create the features\n",
    "df = df_customers.copy()\n",
    "cat_encoder = OneHotEncoder()\n",
    "states_1hot = cat_encoder.fit_transform(df['customer_state'].values.reshape(-1, 1))\n",
    "list_states = cat_encoder.categories_[0].tolist()\n",
    "df_1hot = pd.DataFrame(states_1hot.toarray(),\n",
    "                       columns=list_states,\n",
    "                       index=df.index)\n",
    "df = pd.concat([df, df_1hot], axis=1)\n",
    "\n",
    "# Group by unique customer\n",
    "values = list_states\n",
    "aggfunc = pd.Series.unique\n",
    "pivot_states = pd.pivot_table(df, index=\"customer_unique_id\",\n",
    "                              values=values, aggfunc=aggfunc)"
   ]
  },
  {
   "cell_type": "code",
   "execution_count": 23,
   "metadata": {
    "ExecuteTime": {
     "end_time": "2020-07-22T14:58:30.341449Z",
     "start_time": "2020-07-22T14:58:29.272459Z"
    }
   },
   "outputs": [
    {
     "name": "stdout",
     "output_type": "stream",
     "text": [
      "(119151, 24)\n",
      "(119151, 28)\n"
     ]
    }
   ],
   "source": [
    "from functools import reduce\n",
    "\n",
    "list_df_orders = [df_orders,\n",
    "                  df_order_items,\n",
    "                  df_order_payments,\n",
    "                  df_order_reviews]\n",
    "# Merge all DataFrame handling orders data\n",
    "data = reduce(lambda left, right: pd.merge(left, right, how=\"outer\",\n",
    "                                           on=\"order_id\", copy=True),\n",
    "              list_df_orders)\n",
    "print(data.shape)\n",
    "# Add customers data\n",
    "data = data.merge(right=df_customers, how=\"outer\",\n",
    "                  on=\"customer_id\", copy=False)\n",
    "print(data.shape)\n",
    "# Add products data\n",
    "data = data.merge(right=df_products, how=\"outer\",\n",
    "                  on=\"product_id\", copy=False)\n",
    "# Add the English translation of the product category\n",
    "data = data.merge(right=df_translation, how=\"outer\",\n",
    "                  on=\"product_category_name\", copy=False)\n",
    "# Add sellers data\n",
    "data = data.merge(right=df_sellers, how=\"outer\",\n",
    "                  on=\"seller_id\", copy=False)"
   ]
  }
 ],
 "metadata": {
  "kernelspec": {
   "display_name": "Python 3",
   "language": "python",
   "name": "python3"
  },
  "language_info": {
   "codemirror_mode": {
    "name": "ipython",
    "version": 3
   },
   "file_extension": ".py",
   "mimetype": "text/x-python",
   "name": "python",
   "nbconvert_exporter": "python",
   "pygments_lexer": "ipython3",
   "version": "3.8.3"
  },
  "toc": {
   "base_numbering": 1,
   "nav_menu": {},
   "number_sections": true,
   "sideBar": true,
   "skip_h1_title": true,
   "title_cell": "Table of Contents",
   "title_sidebar": "Contents",
   "toc_cell": true,
   "toc_position": {},
   "toc_section_display": true,
   "toc_window_display": true
  }
 },
 "nbformat": 4,
 "nbformat_minor": 4
}
